{
 "cells": [
  {
   "cell_type": "markdown",
   "metadata": {},
   "source": [
    "# 1. Import"
   ]
  },
  {
   "cell_type": "code",
   "execution_count": 1,
   "metadata": {},
   "outputs": [],
   "source": [
    "import warnings\n",
    "import re\n",
    "import numpy as np\n",
    "import pandas as pd\n",
    "from pycaret.datasets import get_data\n",
    "from lightgbm import LGBMClassifier\n",
    "from sklearn.metrics import log_loss, average_precision_score\n",
    "from sklearn.dummy import DummyClassifier\n",
    "from tqdm import tqdm\n",
    "from shap import TreeExplainer\n",
    "import matplotlib.pyplot as plt"
   ]
  },
  {
   "cell_type": "code",
   "execution_count": 2,
   "metadata": {},
   "outputs": [],
   "source": [
    "warnings.filterwarnings(\"ignore\")"
   ]
  },
  {
   "cell_type": "markdown",
   "metadata": {},
   "source": [
    "# 2. Utils"
   ]
  },
  {
   "cell_type": "code",
   "execution_count": 3,
   "metadata": {},
   "outputs": [],
   "source": [
    "def shap_sum2proba(shap_sum):\n",
    "  \"\"\"Compute sigmoid function of the Shap sum to get predicted probability.\"\"\"\n",
    "  \n",
    "  return 1 / (1 + np.exp(-shap_sum))"
   ]
  },
  {
   "cell_type": "code",
   "execution_count": 4,
   "metadata": {},
   "outputs": [],
   "source": [
    "def individual_log_loss(y_true, y_pred, eps = 1e-15):\n",
    "  \"\"\"Compute log-loss for each individual of the sample.\"\"\"\n",
    "  \n",
    "  y_pred = np.clip(y_pred, eps, 1 - eps)\n",
    "  return - y_true * np.log(y_pred) - (1 - y_true) * np.log(1 - y_pred)"
   ]
  },
  {
   "cell_type": "code",
   "execution_count": 5,
   "metadata": {},
   "outputs": [],
   "source": [
    "def get_preds_shaps(df, features, target, ix_trn):\n",
    "  \"\"\"Get predictions (predicted probabilities) and SHAP values for a dataset.\"\"\"\n",
    "    \n",
    "  model = LGBMClassifier().fit(df.loc[ix_trn, features], df.loc[ix_trn, target])\n",
    "  preds = pd.Series(model.predict_proba(df[features])[:,1], index=df.index)\n",
    "  shap_explainer = TreeExplainer(model)\n",
    "  shap_expected_value = shap_explainer.expected_value[-1]\n",
    "  shaps = pd.DataFrame(\n",
    "    data=shap_explainer.shap_values(df[features])[1],\n",
    "    index=df.index,\n",
    "    columns=features)\n",
    "  return preds, shaps, shap_expected_value"
   ]
  },
  {
   "cell_type": "code",
   "execution_count": 6,
   "metadata": {},
   "outputs": [],
   "source": [
    "def get_feature_contributions(y_true, y_pred, shap_values, shap_expected_value):\n",
    "  \"\"\"Compute prediction contribution and error contribution for each feature.\"\"\"\n",
    "\n",
    "  prediction_contribution = shap_values.abs().mean().rename(\"prediction_contribution\")\n",
    "  \n",
    "  ind_log_loss = individual_log_loss(y_true=y_true, y_pred=y_pred).rename(\"log_loss\")\n",
    "  y_pred_wo_feature = shap_values.apply(lambda feature: shap_expected_value + shap_values.sum(axis=1) - feature).applymap(shap_sum2proba)\n",
    "  ind_log_loss_wo_feature = y_pred_wo_feature.apply(lambda feature: individual_log_loss(y_true=y_true, y_pred=feature))\n",
    "  ind_log_loss_diff = ind_log_loss_wo_feature.apply(lambda feature: ind_log_loss - feature)\n",
    "  error_contribution = ind_log_loss_diff.mean().rename(\"error_contribution\").T\n",
    "  \n",
    "  return prediction_contribution, error_contribution"
   ]
  },
  {
   "cell_type": "markdown",
   "metadata": {},
   "source": [
    "# 4. Toy Example"
   ]
  },
  {
   "cell_type": "markdown",
   "metadata": {},
   "source": [
    "### 4.1 Generate data"
   ]
  },
  {
   "cell_type": "code",
   "execution_count": 7,
   "metadata": {},
   "outputs": [],
   "source": [
    "shap_values = pd.DataFrame([\n",
    "  [-2.0, 0.1, 0.8],\n",
    "  [3.0,  0., 0.5],\n",
    "  [-5.0, -2.0, 3.0]], columns=[\"job\", \"age\", \"nationality\"])\n",
    "y_pred = shap_values.sum(axis=1).apply(shap_sum2proba).rename(\"income>100k (predicted)\")\n",
    "y_true = pd.Series([0, 1, 0], name=\"income>100k (true)\")"
   ]
  },
  {
   "cell_type": "markdown",
   "metadata": {},
   "source": [
    "### 4.2 Compute Prediction Contribution and Error Contribution"
   ]
  },
  {
   "cell_type": "code",
   "execution_count": 8,
   "metadata": {},
   "outputs": [],
   "source": [
    "prediction_contribution = shap_values.abs().mean().rename(\"prediction_contribution\").to_frame().T\n",
    "\n",
    "ind_log_loss = individual_log_loss(y_true=y_true, y_pred=y_pred).rename(\"log_loss\")\n",
    "y_pred_wo_feature = shap_values.apply(lambda feature: shap_values.sum(axis=1) - feature).applymap(shap_sum2proba)\n",
    "ind_log_loss_wo_feature = y_pred_wo_feature.apply(lambda feature: individual_log_loss(y_true=y_true, y_pred=feature))\n",
    "ind_log_loss_diff = ind_log_loss_wo_feature.apply(lambda feature: ind_log_loss - feature)\n",
    "error_contribution = ind_log_loss_diff.mean().rename(\"error_contribution\").to_frame().T"
   ]
  },
  {
   "cell_type": "markdown",
   "metadata": {},
   "source": [
    "### 4.3 Display items"
   ]
  },
  {
   "cell_type": "code",
   "execution_count": 9,
   "metadata": {},
   "outputs": [
    {
     "data": {
      "text/html": [
       "<div>\n",
       "<style scoped>\n",
       "    .dataframe tbody tr th:only-of-type {\n",
       "        vertical-align: middle;\n",
       "    }\n",
       "\n",
       "    .dataframe tbody tr th {\n",
       "        vertical-align: top;\n",
       "    }\n",
       "\n",
       "    .dataframe thead th {\n",
       "        text-align: right;\n",
       "    }\n",
       "</style>\n",
       "<table border=\"1\" class=\"dataframe\">\n",
       "  <thead>\n",
       "    <tr style=\"text-align: right;\">\n",
       "      <th></th>\n",
       "      <th>income&gt;100k (true)</th>\n",
       "      <th>income&gt;100k (predicted)</th>\n",
       "      <th>log_loss</th>\n",
       "    </tr>\n",
       "  </thead>\n",
       "  <tbody>\n",
       "    <tr>\n",
       "      <th>0</th>\n",
       "      <td>0</td>\n",
       "      <td>0.249740</td>\n",
       "      <td>0.287335</td>\n",
       "    </tr>\n",
       "    <tr>\n",
       "      <th>1</th>\n",
       "      <td>1</td>\n",
       "      <td>0.970688</td>\n",
       "      <td>0.029750</td>\n",
       "    </tr>\n",
       "    <tr>\n",
       "      <th>2</th>\n",
       "      <td>0</td>\n",
       "      <td>0.017986</td>\n",
       "      <td>0.018150</td>\n",
       "    </tr>\n",
       "  </tbody>\n",
       "</table>\n",
       "</div>"
      ],
      "text/plain": [
       "   income>100k (true)  income>100k (predicted)  log_loss\n",
       "0                   0                 0.249740  0.287335\n",
       "1                   1                 0.970688  0.029750\n",
       "2                   0                 0.017986  0.018150"
      ]
     },
     "execution_count": 9,
     "metadata": {},
     "output_type": "execute_result"
    }
   ],
   "source": [
    "pd.concat([y_true, y_pred, ind_log_loss], axis=1)"
   ]
  },
  {
   "cell_type": "code",
   "execution_count": 10,
   "metadata": {},
   "outputs": [
    {
     "data": {
      "text/html": [
       "<div>\n",
       "<style scoped>\n",
       "    .dataframe tbody tr th:only-of-type {\n",
       "        vertical-align: middle;\n",
       "    }\n",
       "\n",
       "    .dataframe tbody tr th {\n",
       "        vertical-align: top;\n",
       "    }\n",
       "\n",
       "    .dataframe thead th {\n",
       "        text-align: right;\n",
       "    }\n",
       "</style>\n",
       "<table border=\"1\" class=\"dataframe\">\n",
       "  <thead>\n",
       "    <tr style=\"text-align: right;\">\n",
       "      <th></th>\n",
       "      <th>job</th>\n",
       "      <th>age</th>\n",
       "      <th>nationality</th>\n",
       "      <th>shap sum</th>\n",
       "      <th>predicted probability</th>\n",
       "    </tr>\n",
       "  </thead>\n",
       "  <tbody>\n",
       "    <tr>\n",
       "      <th>0</th>\n",
       "      <td>-2.0</td>\n",
       "      <td>0.1</td>\n",
       "      <td>0.8</td>\n",
       "      <td>-1.1</td>\n",
       "      <td>0.249740</td>\n",
       "    </tr>\n",
       "    <tr>\n",
       "      <th>1</th>\n",
       "      <td>3.0</td>\n",
       "      <td>0.0</td>\n",
       "      <td>0.5</td>\n",
       "      <td>3.5</td>\n",
       "      <td>0.970688</td>\n",
       "    </tr>\n",
       "    <tr>\n",
       "      <th>2</th>\n",
       "      <td>-5.0</td>\n",
       "      <td>-2.0</td>\n",
       "      <td>3.0</td>\n",
       "      <td>-4.0</td>\n",
       "      <td>0.017986</td>\n",
       "    </tr>\n",
       "  </tbody>\n",
       "</table>\n",
       "</div>"
      ],
      "text/plain": [
       "   job  age  nationality  shap sum  predicted probability\n",
       "0 -2.0  0.1          0.8      -1.1               0.249740\n",
       "1  3.0  0.0          0.5       3.5               0.970688\n",
       "2 -5.0 -2.0          3.0      -4.0               0.017986"
      ]
     },
     "execution_count": 10,
     "metadata": {},
     "output_type": "execute_result"
    }
   ],
   "source": [
    "pd.concat([shap_values, shap_values.sum(axis=1).rename(\"shap sum\"), y_pred.rename(\"predicted probability\")], axis=1)"
   ]
  },
  {
   "cell_type": "code",
   "execution_count": 11,
   "metadata": {},
   "outputs": [
    {
     "data": {
      "text/html": [
       "<div>\n",
       "<style scoped>\n",
       "    .dataframe tbody tr th:only-of-type {\n",
       "        vertical-align: middle;\n",
       "    }\n",
       "\n",
       "    .dataframe tbody tr th {\n",
       "        vertical-align: top;\n",
       "    }\n",
       "\n",
       "    .dataframe thead th {\n",
       "        text-align: right;\n",
       "    }\n",
       "</style>\n",
       "<table border=\"1\" class=\"dataframe\">\n",
       "  <thead>\n",
       "    <tr style=\"text-align: right;\">\n",
       "      <th></th>\n",
       "      <th>job</th>\n",
       "      <th>age</th>\n",
       "      <th>nationality</th>\n",
       "    </tr>\n",
       "  </thead>\n",
       "  <tbody>\n",
       "    <tr>\n",
       "      <th>prediction_contribution</th>\n",
       "      <td>3.333333</td>\n",
       "      <td>0.7</td>\n",
       "      <td>1.433333</td>\n",
       "    </tr>\n",
       "  </tbody>\n",
       "</table>\n",
       "</div>"
      ],
      "text/plain": [
       "                              job  age  nationality\n",
       "prediction_contribution  3.333333  0.7     1.433333"
      ]
     },
     "execution_count": 11,
     "metadata": {},
     "output_type": "execute_result"
    }
   ],
   "source": [
    "prediction_contribution"
   ]
  },
  {
   "cell_type": "code",
   "execution_count": 12,
   "metadata": {},
   "outputs": [
    {
     "data": {
      "text/html": [
       "<div>\n",
       "<style scoped>\n",
       "    .dataframe tbody tr th:only-of-type {\n",
       "        vertical-align: middle;\n",
       "    }\n",
       "\n",
       "    .dataframe tbody tr th {\n",
       "        vertical-align: top;\n",
       "    }\n",
       "\n",
       "    .dataframe thead th {\n",
       "        text-align: right;\n",
       "    }\n",
       "</style>\n",
       "<table border=\"1\" class=\"dataframe\">\n",
       "  <thead>\n",
       "    <tr style=\"text-align: right;\">\n",
       "      <th></th>\n",
       "      <th>job</th>\n",
       "      <th>age</th>\n",
       "      <th>nationality</th>\n",
       "    </tr>\n",
       "  </thead>\n",
       "  <tbody>\n",
       "    <tr>\n",
       "      <th>0</th>\n",
       "      <td>0.710950</td>\n",
       "      <td>0.231475</td>\n",
       "      <td>0.130108</td>\n",
       "    </tr>\n",
       "    <tr>\n",
       "      <th>1</th>\n",
       "      <td>0.622459</td>\n",
       "      <td>0.970688</td>\n",
       "      <td>0.952574</td>\n",
       "    </tr>\n",
       "    <tr>\n",
       "      <th>2</th>\n",
       "      <td>0.731059</td>\n",
       "      <td>0.119203</td>\n",
       "      <td>0.000911</td>\n",
       "    </tr>\n",
       "  </tbody>\n",
       "</table>\n",
       "</div>"
      ],
      "text/plain": [
       "        job       age  nationality\n",
       "0  0.710950  0.231475     0.130108\n",
       "1  0.622459  0.970688     0.952574\n",
       "2  0.731059  0.119203     0.000911"
      ]
     },
     "execution_count": 12,
     "metadata": {},
     "output_type": "execute_result"
    }
   ],
   "source": [
    "y_pred_wo_feature"
   ]
  },
  {
   "cell_type": "code",
   "execution_count": 13,
   "metadata": {},
   "outputs": [
    {
     "data": {
      "text/html": [
       "<div>\n",
       "<style scoped>\n",
       "    .dataframe tbody tr th:only-of-type {\n",
       "        vertical-align: middle;\n",
       "    }\n",
       "\n",
       "    .dataframe tbody tr th {\n",
       "        vertical-align: top;\n",
       "    }\n",
       "\n",
       "    .dataframe thead th {\n",
       "        text-align: right;\n",
       "    }\n",
       "</style>\n",
       "<table border=\"1\" class=\"dataframe\">\n",
       "  <thead>\n",
       "    <tr style=\"text-align: right;\">\n",
       "      <th></th>\n",
       "      <th>job</th>\n",
       "      <th>age</th>\n",
       "      <th>nationality</th>\n",
       "    </tr>\n",
       "  </thead>\n",
       "  <tbody>\n",
       "    <tr>\n",
       "      <th>0</th>\n",
       "      <td>1.241154</td>\n",
       "      <td>0.263282</td>\n",
       "      <td>0.139387</td>\n",
       "    </tr>\n",
       "    <tr>\n",
       "      <th>1</th>\n",
       "      <td>0.474077</td>\n",
       "      <td>0.029750</td>\n",
       "      <td>0.048587</td>\n",
       "    </tr>\n",
       "    <tr>\n",
       "      <th>2</th>\n",
       "      <td>1.313262</td>\n",
       "      <td>0.126928</td>\n",
       "      <td>0.000911</td>\n",
       "    </tr>\n",
       "  </tbody>\n",
       "</table>\n",
       "</div>"
      ],
      "text/plain": [
       "        job       age  nationality\n",
       "0  1.241154  0.263282     0.139387\n",
       "1  0.474077  0.029750     0.048587\n",
       "2  1.313262  0.126928     0.000911"
      ]
     },
     "execution_count": 13,
     "metadata": {},
     "output_type": "execute_result"
    }
   ],
   "source": [
    "ind_log_loss_wo_feature"
   ]
  },
  {
   "cell_type": "code",
   "execution_count": 14,
   "metadata": {},
   "outputs": [
    {
     "data": {
      "text/html": [
       "<div>\n",
       "<style scoped>\n",
       "    .dataframe tbody tr th:only-of-type {\n",
       "        vertical-align: middle;\n",
       "    }\n",
       "\n",
       "    .dataframe tbody tr th {\n",
       "        vertical-align: top;\n",
       "    }\n",
       "\n",
       "    .dataframe thead th {\n",
       "        text-align: right;\n",
       "    }\n",
       "</style>\n",
       "<table border=\"1\" class=\"dataframe\">\n",
       "  <thead>\n",
       "    <tr style=\"text-align: right;\">\n",
       "      <th></th>\n",
       "      <th>job</th>\n",
       "      <th>age</th>\n",
       "      <th>nationality</th>\n",
       "    </tr>\n",
       "  </thead>\n",
       "  <tbody>\n",
       "    <tr>\n",
       "      <th>0</th>\n",
       "      <td>-0.953819</td>\n",
       "      <td>0.024053</td>\n",
       "      <td>0.147949</td>\n",
       "    </tr>\n",
       "    <tr>\n",
       "      <th>1</th>\n",
       "      <td>-0.444327</td>\n",
       "      <td>0.000000</td>\n",
       "      <td>-0.018837</td>\n",
       "    </tr>\n",
       "    <tr>\n",
       "      <th>2</th>\n",
       "      <td>-1.295112</td>\n",
       "      <td>-0.108778</td>\n",
       "      <td>0.017238</td>\n",
       "    </tr>\n",
       "  </tbody>\n",
       "</table>\n",
       "</div>"
      ],
      "text/plain": [
       "        job       age  nationality\n",
       "0 -0.953819  0.024053     0.147949\n",
       "1 -0.444327  0.000000    -0.018837\n",
       "2 -1.295112 -0.108778     0.017238"
      ]
     },
     "execution_count": 14,
     "metadata": {},
     "output_type": "execute_result"
    }
   ],
   "source": [
    "ind_log_loss_diff"
   ]
  },
  {
   "cell_type": "code",
   "execution_count": 15,
   "metadata": {},
   "outputs": [
    {
     "data": {
      "text/html": [
       "<div>\n",
       "<style scoped>\n",
       "    .dataframe tbody tr th:only-of-type {\n",
       "        vertical-align: middle;\n",
       "    }\n",
       "\n",
       "    .dataframe tbody tr th {\n",
       "        vertical-align: top;\n",
       "    }\n",
       "\n",
       "    .dataframe thead th {\n",
       "        text-align: right;\n",
       "    }\n",
       "</style>\n",
       "<table border=\"1\" class=\"dataframe\">\n",
       "  <thead>\n",
       "    <tr style=\"text-align: right;\">\n",
       "      <th></th>\n",
       "      <th>job</th>\n",
       "      <th>age</th>\n",
       "      <th>nationality</th>\n",
       "    </tr>\n",
       "  </thead>\n",
       "  <tbody>\n",
       "    <tr>\n",
       "      <th>error_contribution</th>\n",
       "      <td>-0.897752</td>\n",
       "      <td>-0.028242</td>\n",
       "      <td>0.048783</td>\n",
       "    </tr>\n",
       "  </tbody>\n",
       "</table>\n",
       "</div>"
      ],
      "text/plain": [
       "                         job       age  nationality\n",
       "error_contribution -0.897752 -0.028242     0.048783"
      ]
     },
     "execution_count": 15,
     "metadata": {},
     "output_type": "execute_result"
    }
   ],
   "source": [
    "error_contribution"
   ]
  },
  {
   "cell_type": "markdown",
   "metadata": {},
   "source": [
    "# 3. Theory"
   ]
  },
  {
   "cell_type": "markdown",
   "metadata": {},
   "source": [
    "$$\n",
    "\\frac{1}{N} \\sum_{i=1}^{N} - y_i \\cdot \\log ( p_i ) - ( 1 - y_i ) \\cdot \\log ( 1 - p_i ) \n",
    "$$"
   ]
  },
  {
   "cell_type": "markdown",
   "metadata": {},
   "source": [
    "$$\n",
    "- y \\cdot \\log(p) - ( 1 - y ) \\cdot \\log ( 1 - p ) \n",
    "$$"
   ]
  },
  {
   "cell_type": "markdown",
   "metadata": {},
   "source": [
    "$$\n",
    "\\begin{cases}\n",
    "-\\log(p) & \\text{if $y$ = 1}\\\\\n",
    "-\\log(1-p) & \\text{if $y$ = 0}\\\\\n",
    "\\end{cases} \n",
    "$$"
   ]
  },
  {
   "cell_type": "code",
   "execution_count": 16,
   "metadata": {},
   "outputs": [
    {
     "data": {
      "image/png": "[encoded data removed]",
      "text/plain": [
       "<Figure size 432x288 with 1 Axes>"
      ]
     },
     "metadata": {
      "needs_background": "light"
     },
     "output_type": "display_data"
    }
   ],
   "source": [
    "fig, ax = plt.subplots()\n",
    "\n",
    "p = np.linspace(.0001, .9999, 1000)\n",
    "\n",
    "ax.plot(p, -np.log(p), lw=3, label = \"if y=1 → -log(p)\")\n",
    "ax.plot(p, -np.log(1-p), lw=3, label = \"if y=0 → -log(1-p)\")\n",
    "ax.set_xlabel(\"p\", fontsize=12)\n",
    "ax.set_ylabel(\"individual log loss\", fontsize=12)\n",
    "ax.legend(fontsize=12)\n",
    "ax.grid()\n",
    "ax.tick_params(axis=\"both\", which=\"major\", labelsize=12)\n",
    "\n",
    "fig.savefig(\"logloss_curves_.png\", dpi=200, bbox_inches=\"tight\")"
   ]
  },
  {
   "cell_type": "markdown",
   "metadata": {},
   "source": [
    "$$\n",
    "p=\\frac{1}{1 + e^{\\,-\\,\\mathrm{shap\\,sum}}}\n",
    "$$"
   ]
  },
  {
   "cell_type": "code",
   "execution_count": 17,
   "metadata": {},
   "outputs": [
    {
     "data": {
      "image/png": "[encoded data removed]",
      "text/plain": [
       "<Figure size 432x288 with 1 Axes>"
      ]
     },
     "metadata": {
      "needs_background": "light"
     },
     "output_type": "display_data"
    }
   ],
   "source": [
    "fig, ax = plt.subplots()\n",
    "\n",
    "shap_sum = np.linspace(-10, 10, 1000)\n",
    "\n",
    "ax.plot(shap_sum, shap_sum2proba(shap_sum), lw=3, label = \"1 / (1 + exp(-x))\")\n",
    "\n",
    "for i in range(3):\n",
    "  ax.scatter(shap_values.sum(axis=1).loc[i], y_pred.loc[i], color=\"red\", edgecolors=\"black\", s=80, zorder=100)\n",
    "\n",
    "ax.set_xlabel(\"shap sum\", fontsize=12)\n",
    "ax.set_ylabel(\"predicted probability\", fontsize=12)\n",
    "ax.legend(fontsize=12)\n",
    "ax.grid()\n",
    "ax.tick_params(axis=\"both\", which=\"major\", labelsize=12)\n",
    "\n",
    "fig.savefig(\"sigmoid_func_.png\", dpi=200, bbox_inches=\"tight\")"
   ]
  },
  {
   "cell_type": "markdown",
   "metadata": {},
   "source": [
    "# 5. Real dataset"
   ]
  },
  {
   "cell_type": "code",
   "execution_count": 18,
   "metadata": {},
   "outputs": [],
   "source": [
    "#df = get_data(\"gold\", verbose=False)\n",
    "#df *= 100\n",
    "#df[\"Gold_T+22\"] = (df[\"Gold_T+22\"] > 5).astype(int)"
   ]
  },
  {
   "cell_type": "code",
   "execution_count": 22,
   "metadata": {},
   "outputs": [],
   "source": [
    "df = pd.read_csv(\"gold.csv\", sep=\"\\t\")\n",
    "\n",
    "target = \"Gold_T+22\"\n",
    "\n",
    "features = [f for f in df.columns if f != target]\n",
    "argsort = np.argsort([f.split(\"T-\")[0] + \"T-\" + \"{:2.1f}\".format(float(f.split(\"T-\")[1])).zfill(4) for f in features])\n",
    "features = [features[arg] for arg in argsort]"
   ]
  },
  {
   "cell_type": "markdown",
   "metadata": {},
   "source": [
    "# 6. Data Analysis"
   ]
  },
  {
   "cell_type": "code",
   "execution_count": 23,
   "metadata": {},
   "outputs": [
    {
     "data": {
      "text/plain": [
       "count    2558.000000\n",
       "mean        0.145035\n",
       "std         0.352205\n",
       "min         0.000000\n",
       "25%         0.000000\n",
       "50%         0.000000\n",
       "75%         0.000000\n",
       "max         1.000000\n",
       "Name: Gold_T+22, dtype: float64"
      ]
     },
     "execution_count": 23,
     "metadata": {},
     "output_type": "execute_result"
    }
   ],
   "source": [
    "df[target].describe()"
   ]
  },
  {
   "cell_type": "code",
   "execution_count": 24,
   "metadata": {},
   "outputs": [
    {
     "data": {
      "text/html": [
       "<div>\n",
       "<style scoped>\n",
       "    .dataframe tbody tr th:only-of-type {\n",
       "        vertical-align: middle;\n",
       "    }\n",
       "\n",
       "    .dataframe tbody tr th {\n",
       "        vertical-align: top;\n",
       "    }\n",
       "\n",
       "    .dataframe thead th {\n",
       "        text-align: right;\n",
       "    }\n",
       "</style>\n",
       "<table border=\"1\" class=\"dataframe\">\n",
       "  <thead>\n",
       "    <tr style=\"text-align: right;\">\n",
       "      <th></th>\n",
       "      <th>3M Libor_T-1</th>\n",
       "      <th>3M Libor_T-7</th>\n",
       "      <th>3M Libor_T-14</th>\n",
       "      <th>3M Libor_T-22</th>\n",
       "      <th>...</th>\n",
       "      <th>Yuan_T-7</th>\n",
       "      <th>Yuan_T-14</th>\n",
       "      <th>Yuan_T-22</th>\n",
       "      <th>Gold_T+22</th>\n",
       "    </tr>\n",
       "  </thead>\n",
       "  <tbody>\n",
       "    <tr>\n",
       "      <th>0</th>\n",
       "      <td>0.00</td>\n",
       "      <td>-1.80</td>\n",
       "      <td>-2.90</td>\n",
       "      <td>-4.07</td>\n",
       "      <td>...</td>\n",
       "      <td>-0.01</td>\n",
       "      <td>-0.02</td>\n",
       "      <td>-0.00</td>\n",
       "      <td>0</td>\n",
       "    </tr>\n",
       "    <tr>\n",
       "      <th>1</th>\n",
       "      <td>-0.46</td>\n",
       "      <td>-1.47</td>\n",
       "      <td>-3.34</td>\n",
       "      <td>-4.51</td>\n",
       "      <td>...</td>\n",
       "      <td>-0.01</td>\n",
       "      <td>-0.04</td>\n",
       "      <td>-0.01</td>\n",
       "      <td>0</td>\n",
       "    </tr>\n",
       "    <tr>\n",
       "      <th>...</th>\n",
       "      <td>...</td>\n",
       "      <td>...</td>\n",
       "      <td>...</td>\n",
       "      <td>...</td>\n",
       "      <td>...</td>\n",
       "      <td>...</td>\n",
       "      <td>...</td>\n",
       "      <td>...</td>\n",
       "      <td>...</td>\n",
       "    </tr>\n",
       "    <tr>\n",
       "      <th>2556</th>\n",
       "      <td>-0.23</td>\n",
       "      <td>0.02</td>\n",
       "      <td>-1.18</td>\n",
       "      <td>-6.73</td>\n",
       "      <td>...</td>\n",
       "      <td>1.25</td>\n",
       "      <td>1.88</td>\n",
       "      <td>3.98</td>\n",
       "      <td>0</td>\n",
       "    </tr>\n",
       "    <tr>\n",
       "      <th>2557</th>\n",
       "      <td>-0.29</td>\n",
       "      <td>-0.83</td>\n",
       "      <td>-1.93</td>\n",
       "      <td>-5.03</td>\n",
       "      <td>...</td>\n",
       "      <td>1.21</td>\n",
       "      <td>2.22</td>\n",
       "      <td>3.46</td>\n",
       "      <td>0</td>\n",
       "    </tr>\n",
       "  </tbody>\n",
       "</table>\n",
       "<p>2558 rows × 121 columns</p>\n",
       "</div>"
      ],
      "text/plain": [
       "      3M Libor_T-1  3M Libor_T-7  3M Libor_T-14  3M Libor_T-22  ...  Yuan_T-7  \\\n",
       "0             0.00         -1.80          -2.90          -4.07  ...     -0.01   \n",
       "1            -0.46         -1.47          -3.34          -4.51  ...     -0.01   \n",
       "...            ...           ...            ...            ...  ...       ...   \n",
       "2556         -0.23          0.02          -1.18          -6.73  ...      1.25   \n",
       "2557         -0.29         -0.83          -1.93          -5.03  ...      1.21   \n",
       "\n",
       "      Yuan_T-14  Yuan_T-22  Gold_T+22  \n",
       "0         -0.02      -0.00          0  \n",
       "1         -0.04      -0.01          0  \n",
       "...         ...        ...        ...  \n",
       "2556       1.88       3.98          0  \n",
       "2557       2.22       3.46          0  \n",
       "\n",
       "[2558 rows x 121 columns]"
      ]
     },
     "execution_count": 24,
     "metadata": {},
     "output_type": "execute_result"
    }
   ],
   "source": [
    "pd.set_option('display.max_columns', 8)\n",
    "pd.set_option(\"display.max_rows\", 5)\n",
    "\n",
    "df[features + [target]].round(2)"
   ]
  },
  {
   "cell_type": "code",
   "execution_count": 25,
   "metadata": {},
   "outputs": [
    {
     "name": "stdout",
     "output_type": "stream",
     "text": [
      "3M Libor            AUD                 Brent 1             Brent 2             \n",
      "Corn                Crude Palm Oil      DJ Index            Dollex              \n",
      "EM Bond             EMEquity ETF        Euro Curr           Gold                \n",
      "INR                 Light Crude         MR                  MSCI APAC ex J      \n",
      "MSCI EM             Nifty               Nikkei Ind          Palladium           \n",
      "Platinum            S&P 500             Shanghai Index      Silver              \n",
      "US Bond ETF         Wheat 1             Wheat 2             White Sugar         \n",
      "Yuan                "
     ]
    }
   ],
   "source": [
    "for enum, f in enumerate(sorted(set([f.split(\"_\")[0] for f in features]))):\n",
    "  print(f.ljust(20), end=\"\")\n",
    "  if enum % 4 == 3:\n",
    "    print(\"\\n\", end=\"\")"
   ]
  },
  {
   "cell_type": "markdown",
   "metadata": {},
   "source": [
    "# 7. Train/Validation/Test Split"
   ]
  },
  {
   "cell_type": "code",
   "execution_count": 26,
   "metadata": {},
   "outputs": [],
   "source": [
    "np.random.seed(123)\n",
    "fold = np.random.choice([\"trn\", \"val\", \"tst\"], p=[1/3, 1/3, 1/3], size=len(df))\n",
    "\n",
    "ix_trn = fold == \"trn\"\n",
    "ix_val = fold == \"val\"\n",
    "ix_tst = fold == \"tst\""
   ]
  },
  {
   "cell_type": "code",
   "execution_count": 27,
   "metadata": {},
   "outputs": [],
   "source": [
    "assert (ix_trn.astype(int) + ix_val.astype(int) + ix_tst.astype(int) == 1).all()"
   ]
  },
  {
   "cell_type": "markdown",
   "metadata": {},
   "source": [
    "# 8. Single Model"
   ]
  },
  {
   "cell_type": "markdown",
   "metadata": {},
   "source": [
    "### 8.1 Compute Predictions and Shap Values"
   ]
  },
  {
   "cell_type": "code",
   "execution_count": 45,
   "metadata": {},
   "outputs": [],
   "source": [
    "preds, shaps, shap_expected_value = get_preds_shaps(df=df, features=features, target=target, ix_trn=ix_trn)\n",
    "\n",
    "assert ((preds - (shap_expected_value + shaps.sum(axis=1)).apply(shap_sum2proba)).abs() < 1e-10).all()\n",
    "\n",
    "prediction_contribution_trn, error_contribution_trn = get_feature_contributions(\n",
    "  y_true=df.loc[ix_trn, target], \n",
    "  y_pred=preds.loc[ix_trn], \n",
    "  shap_values=shaps.loc[ix_trn, :],\n",
    "  shap_expected_value=shap_expected_value\n",
    ")\n",
    "\n",
    "prediction_contribution_val, error_contribution_val = get_feature_contributions(\n",
    "  y_true=df.loc[ix_val, target], \n",
    "  y_pred=preds.loc[ix_val], \n",
    "  shap_values=shaps.loc[ix_val, :],\n",
    "  shap_expected_value=shap_expected_value\n",
    ")\n",
    "\n",
    "contributions_trn = pd.concat([prediction_contribution_trn, error_contribution_trn], axis=1)\n",
    "contributions_val = pd.concat([prediction_contribution_val, error_contribution_val], axis=1)"
   ]
  },
  {
   "cell_type": "markdown",
   "metadata": {},
   "source": [
    "### 8.2 Write/Read Results"
   ]
  },
  {
   "cell_type": "code",
   "execution_count": 46,
   "metadata": {},
   "outputs": [],
   "source": [
    "contributions_trn.to_csv(\"contributions_trn.csv\", index=True)\n",
    "contributions_val.to_csv(\"contributions_val.csv\", index=True)"
   ]
  },
  {
   "cell_type": "code",
   "execution_count": 47,
   "metadata": {},
   "outputs": [],
   "source": [
    "contributions_trn = pd.read_csv(\"contributions_trn.csv\", index_col=0)\n",
    "contributions_val = pd.read_csv(\"contributions_val.csv\", index_col=0)"
   ]
  },
  {
   "cell_type": "markdown",
   "metadata": {},
   "source": [
    "### 8.3 Prediction vs. Error Contribution (Training)"
   ]
  },
  {
   "cell_type": "code",
   "execution_count": 48,
   "metadata": {},
   "outputs": [
    {
     "data": {
      "image/png": "[encoded data removed]",
      "text/plain": [
       "<Figure size 432x288 with 1 Axes>"
      ]
     },
     "metadata": {
      "needs_background": "light"
     },
     "output_type": "display_data"
    }
   ],
   "source": [
    "fig, ax = plt.subplots()\n",
    "\n",
    "ax.scatter(contributions_trn[\"prediction_contribution\"], contributions_trn[\"error_contribution\"], s=80, color=\"orange\", edgecolors=\"black\")\n",
    "ax.hlines(y=0, xmin=0, xmax=contributions_trn[\"prediction_contribution\"].max(), ls=\"--\", color=\"black\")\n",
    "ax.tick_params(axis=\"both\", which=\"major\", labelsize=12)\n",
    "ax.grid(); ax.set_axisbelow(True)\n",
    "ax.set_title(\"Train Dataset\", fontsize=12)\n",
    "ax.set_xlabel(\"Prediction Contribution\", fontsize=12)\n",
    "ax.set_ylabel(\"Error Contribution\", fontsize=12)\n",
    "\n",
    "fig.savefig(\"single_trn.png\", dpi=200, bbox_inches=\"tight\")"
   ]
  },
  {
   "cell_type": "code",
   "execution_count": 49,
   "metadata": {},
   "outputs": [
    {
     "data": {
      "text/html": [
       "<div>\n",
       "<style scoped>\n",
       "    .dataframe tbody tr th:only-of-type {\n",
       "        vertical-align: middle;\n",
       "    }\n",
       "\n",
       "    .dataframe tbody tr th {\n",
       "        vertical-align: top;\n",
       "    }\n",
       "\n",
       "    .dataframe thead th {\n",
       "        text-align: right;\n",
       "    }\n",
       "</style>\n",
       "<table border=\"1\" class=\"dataframe\">\n",
       "  <thead>\n",
       "    <tr style=\"text-align: right;\">\n",
       "      <th></th>\n",
       "      <th>prediction_contribution</th>\n",
       "      <th>error_contribution</th>\n",
       "    </tr>\n",
       "  </thead>\n",
       "  <tbody>\n",
       "    <tr>\n",
       "      <th>US Bond ETF_T-22</th>\n",
       "      <td>0.357729</td>\n",
       "      <td>-0.000426</td>\n",
       "    </tr>\n",
       "    <tr>\n",
       "      <th>INR_T-22</th>\n",
       "      <td>0.340033</td>\n",
       "      <td>-0.000584</td>\n",
       "    </tr>\n",
       "    <tr>\n",
       "      <th>3M Libor_T-22</th>\n",
       "      <td>0.317645</td>\n",
       "      <td>-0.000776</td>\n",
       "    </tr>\n",
       "    <tr>\n",
       "      <th>EMEquity ETF_T-14</th>\n",
       "      <td>0.299084</td>\n",
       "      <td>-0.000438</td>\n",
       "    </tr>\n",
       "    <tr>\n",
       "      <th>Crude Palm Oil_T-22</th>\n",
       "      <td>0.289143</td>\n",
       "      <td>-0.000404</td>\n",
       "    </tr>\n",
       "    <tr>\n",
       "      <th>3M Libor_T-14</th>\n",
       "      <td>0.282654</td>\n",
       "      <td>-0.000586</td>\n",
       "    </tr>\n",
       "    <tr>\n",
       "      <th>White Sugar_T-14</th>\n",
       "      <td>0.256399</td>\n",
       "      <td>-0.000428</td>\n",
       "    </tr>\n",
       "    <tr>\n",
       "      <th>Crude Palm Oil_T-14</th>\n",
       "      <td>0.245532</td>\n",
       "      <td>-0.000340</td>\n",
       "    </tr>\n",
       "    <tr>\n",
       "      <th>Nikkei Ind_T-22</th>\n",
       "      <td>0.241579</td>\n",
       "      <td>-0.000817</td>\n",
       "    </tr>\n",
       "    <tr>\n",
       "      <th>Corn_T-1</th>\n",
       "      <td>0.177843</td>\n",
       "      <td>-0.000232</td>\n",
       "    </tr>\n",
       "  </tbody>\n",
       "</table>\n",
       "</div>"
      ],
      "text/plain": [
       "                     prediction_contribution  error_contribution\n",
       "US Bond ETF_T-22                    0.357729           -0.000426\n",
       "INR_T-22                            0.340033           -0.000584\n",
       "3M Libor_T-22                       0.317645           -0.000776\n",
       "EMEquity ETF_T-14                   0.299084           -0.000438\n",
       "Crude Palm Oil_T-22                 0.289143           -0.000404\n",
       "3M Libor_T-14                       0.282654           -0.000586\n",
       "White Sugar_T-14                    0.256399           -0.000428\n",
       "Crude Palm Oil_T-14                 0.245532           -0.000340\n",
       "Nikkei Ind_T-22                     0.241579           -0.000817\n",
       "Corn_T-1                            0.177843           -0.000232"
      ]
     },
     "execution_count": 49,
     "metadata": {},
     "output_type": "execute_result"
    }
   ],
   "source": [
    "pd.set_option(\"display.max_rows\", 10)\n",
    "\n",
    "contributions_trn.sort_values(\"prediction_contribution\", ascending=False).head(10)"
   ]
  },
  {
   "cell_type": "markdown",
   "metadata": {},
   "source": [
    "### 8.4 Prediction vs. Error Contribution (Validation)"
   ]
  },
  {
   "cell_type": "code",
   "execution_count": 50,
   "metadata": {},
   "outputs": [
    {
     "data": {
      "image/png": "[encoded data removed]",
      "text/plain": [
       "<Figure size 432x288 with 1 Axes>"
      ]
     },
     "metadata": {
      "needs_background": "light"
     },
     "output_type": "display_data"
    }
   ],
   "source": [
    "fig, ax = plt.subplots()\n",
    "\n",
    "ax.scatter(contributions_val[\"prediction_contribution\"], contributions_val[\"error_contribution\"], s=80, color=\"orange\", edgecolors=\"black\")\n",
    "ax.hlines(y=0, xmin=0, xmax=contributions_val[\"prediction_contribution\"].max(), ls=\"--\", color=\"black\")\n",
    "ax.tick_params(axis=\"both\", which=\"major\", labelsize=12)\n",
    "\n",
    "ax.grid()\n",
    "ax.set_axisbelow(True)\n",
    "ax.set_title(\"Validation Dataset\", fontsize=12)\n",
    "ax.set_xlabel(\"Prediction Contribution\", fontsize=12)\n",
    "ax.set_ylabel(\"Error Contribution\", fontsize=12)\n",
    "\n",
    "fig.savefig(\"single_val.png\", dpi=200, bbox_inches=\"tight\")"
   ]
  },
  {
   "cell_type": "code",
   "execution_count": 51,
   "metadata": {},
   "outputs": [
    {
     "data": {
      "text/html": [
       "<div>\n",
       "<style scoped>\n",
       "    .dataframe tbody tr th:only-of-type {\n",
       "        vertical-align: middle;\n",
       "    }\n",
       "\n",
       "    .dataframe tbody tr th {\n",
       "        vertical-align: top;\n",
       "    }\n",
       "\n",
       "    .dataframe thead th {\n",
       "        text-align: right;\n",
       "    }\n",
       "</style>\n",
       "<table border=\"1\" class=\"dataframe\">\n",
       "  <thead>\n",
       "    <tr style=\"text-align: right;\">\n",
       "      <th></th>\n",
       "      <th>prediction_contribution</th>\n",
       "      <th>error_contribution</th>\n",
       "    </tr>\n",
       "  </thead>\n",
       "  <tbody>\n",
       "    <tr>\n",
       "      <th>3M Libor_T-22</th>\n",
       "      <td>0.3106</td>\n",
       "      <td>-0.0277</td>\n",
       "    </tr>\n",
       "    <tr>\n",
       "      <th>Nikkei Ind_T-22</th>\n",
       "      <td>0.2540</td>\n",
       "      <td>-0.0196</td>\n",
       "    </tr>\n",
       "    <tr>\n",
       "      <th>Corn_T-22</th>\n",
       "      <td>0.1617</td>\n",
       "      <td>-0.0184</td>\n",
       "    </tr>\n",
       "    <tr>\n",
       "      <th>Crude Palm Oil_T-22</th>\n",
       "      <td>0.2796</td>\n",
       "      <td>-0.0170</td>\n",
       "    </tr>\n",
       "    <tr>\n",
       "      <th>INR_T-22</th>\n",
       "      <td>0.3197</td>\n",
       "      <td>-0.0086</td>\n",
       "    </tr>\n",
       "    <tr>\n",
       "      <th>Crude Palm Oil_T-14</th>\n",
       "      <td>0.2321</td>\n",
       "      <td>-0.0082</td>\n",
       "    </tr>\n",
       "    <tr>\n",
       "      <th>Gold_T-22</th>\n",
       "      <td>0.1231</td>\n",
       "      <td>-0.0075</td>\n",
       "    </tr>\n",
       "    <tr>\n",
       "      <th>3M Libor_T-14</th>\n",
       "      <td>0.2961</td>\n",
       "      <td>-0.0067</td>\n",
       "    </tr>\n",
       "    <tr>\n",
       "      <th>Yuan_T-22</th>\n",
       "      <td>0.1133</td>\n",
       "      <td>-0.0062</td>\n",
       "    </tr>\n",
       "    <tr>\n",
       "      <th>US Bond ETF_T-22</th>\n",
       "      <td>0.3782</td>\n",
       "      <td>-0.0061</td>\n",
       "    </tr>\n",
       "  </tbody>\n",
       "</table>\n",
       "</div>"
      ],
      "text/plain": [
       "                     prediction_contribution  error_contribution\n",
       "3M Libor_T-22                         0.3106             -0.0277\n",
       "Nikkei Ind_T-22                       0.2540             -0.0196\n",
       "Corn_T-22                             0.1617             -0.0184\n",
       "Crude Palm Oil_T-22                   0.2796             -0.0170\n",
       "INR_T-22                              0.3197             -0.0086\n",
       "Crude Palm Oil_T-14                   0.2321             -0.0082\n",
       "Gold_T-22                             0.1231             -0.0075\n",
       "3M Libor_T-14                         0.2961             -0.0067\n",
       "Yuan_T-22                             0.1133             -0.0062\n",
       "US Bond ETF_T-22                      0.3782             -0.0061"
      ]
     },
     "execution_count": 51,
     "metadata": {},
     "output_type": "execute_result"
    }
   ],
   "source": [
    "pd.set_option(\"display.max_rows\", 10)\n",
    "\n",
    "contributions_val.sort_values(\"error_contribution\", ascending=True).round(4).head(10)"
   ]
  },
  {
   "cell_type": "code",
   "execution_count": 52,
   "metadata": {},
   "outputs": [
    {
     "data": {
      "text/html": [
       "<div>\n",
       "<style scoped>\n",
       "    .dataframe tbody tr th:only-of-type {\n",
       "        vertical-align: middle;\n",
       "    }\n",
       "\n",
       "    .dataframe tbody tr th {\n",
       "        vertical-align: top;\n",
       "    }\n",
       "\n",
       "    .dataframe thead th {\n",
       "        text-align: right;\n",
       "    }\n",
       "</style>\n",
       "<table border=\"1\" class=\"dataframe\">\n",
       "  <thead>\n",
       "    <tr style=\"text-align: right;\">\n",
       "      <th></th>\n",
       "      <th>prediction_contribution</th>\n",
       "      <th>error_contribution</th>\n",
       "    </tr>\n",
       "  </thead>\n",
       "  <tbody>\n",
       "    <tr>\n",
       "      <th>Palladium_T-14</th>\n",
       "      <td>0.1320</td>\n",
       "      <td>0.0067</td>\n",
       "    </tr>\n",
       "    <tr>\n",
       "      <th>Corn_T-1</th>\n",
       "      <td>0.1678</td>\n",
       "      <td>0.0044</td>\n",
       "    </tr>\n",
       "    <tr>\n",
       "      <th>EMEquity ETF_T-14</th>\n",
       "      <td>0.3114</td>\n",
       "      <td>0.0041</td>\n",
       "    </tr>\n",
       "    <tr>\n",
       "      <th>Nikkei Ind_T-1</th>\n",
       "      <td>0.1821</td>\n",
       "      <td>0.0027</td>\n",
       "    </tr>\n",
       "    <tr>\n",
       "      <th>US Bond ETF_T-1</th>\n",
       "      <td>0.0689</td>\n",
       "      <td>0.0025</td>\n",
       "    </tr>\n",
       "    <tr>\n",
       "      <th>INR_T-1</th>\n",
       "      <td>0.1539</td>\n",
       "      <td>0.0022</td>\n",
       "    </tr>\n",
       "    <tr>\n",
       "      <th>Crude Palm Oil_T-1</th>\n",
       "      <td>0.0723</td>\n",
       "      <td>0.0021</td>\n",
       "    </tr>\n",
       "    <tr>\n",
       "      <th>EMEquity ETF_T-7</th>\n",
       "      <td>0.0741</td>\n",
       "      <td>0.0019</td>\n",
       "    </tr>\n",
       "    <tr>\n",
       "      <th>Palladium_T-1</th>\n",
       "      <td>0.0931</td>\n",
       "      <td>0.0014</td>\n",
       "    </tr>\n",
       "    <tr>\n",
       "      <th>US Bond ETF_T-14</th>\n",
       "      <td>0.0813</td>\n",
       "      <td>0.0011</td>\n",
       "    </tr>\n",
       "  </tbody>\n",
       "</table>\n",
       "</div>"
      ],
      "text/plain": [
       "                    prediction_contribution  error_contribution\n",
       "Palladium_T-14                       0.1320              0.0067\n",
       "Corn_T-1                             0.1678              0.0044\n",
       "EMEquity ETF_T-14                    0.3114              0.0041\n",
       "Nikkei Ind_T-1                       0.1821              0.0027\n",
       "US Bond ETF_T-1                      0.0689              0.0025\n",
       "INR_T-1                              0.1539              0.0022\n",
       "Crude Palm Oil_T-1                   0.0723              0.0021\n",
       "EMEquity ETF_T-7                     0.0741              0.0019\n",
       "Palladium_T-1                        0.0931              0.0014\n",
       "US Bond ETF_T-14                     0.0813              0.0011"
      ]
     },
     "execution_count": 52,
     "metadata": {},
     "output_type": "execute_result"
    }
   ],
   "source": [
    "pd.set_option(\"display.max_rows\", 10)\n",
    "\n",
    "contributions_val.sort_values(\"error_contribution\", ascending=False).round(4).head(10)"
   ]
  },
  {
   "cell_type": "markdown",
   "metadata": {},
   "source": [
    "# 9. Recursive Feature Elimination (RFE)"
   ]
  },
  {
   "cell_type": "markdown",
   "metadata": {},
   "source": [
    "### 9.1. RFE - Error Contribution\n",
    "At each step, we remove the feature with the highest error contribution."
   ]
  },
  {
   "cell_type": "code",
   "execution_count": null,
   "metadata": {},
   "outputs": [],
   "source": [
    "rfe_error = pd.DataFrame(dtype=float)\n",
    "features_curr = features.copy()\n",
    "feature_drop = None\n",
    "\n",
    "for iteration in tqdm(range(len(features))):\n",
    "  \n",
    "  preds, shaps, shap_expected_value = get_preds_shaps(df=df, features=features_curr, target=target, ix_trn=ix_trn)\n",
    "  prediction_contribution, error_contribution = get_feature_contributions(\n",
    "    y_true=df.loc[ix_val, target], \n",
    "    y_pred=preds.loc[ix_val], \n",
    "    shap_values=shaps.loc[ix_val, :],\n",
    "    shap_expected_value=shap_expected_value\n",
    "  )\n",
    "\n",
    "  rfe_error.loc[iteration, \"feature_drop\"] = feature_drop\n",
    "  rfe_error.loc[iteration, \"n_features\"] = len(features_curr)\n",
    "  rfe_error.loc[iteration, \"contrib\"] = error_contribution.max()\n",
    "  rfe_error.loc[iteration, \"logloss_trn\"] = log_loss(df.loc[ix_trn, target], preds.loc[ix_trn])\n",
    "  rfe_error.loc[iteration, \"logloss_val\"] = log_loss(df.loc[ix_val, target], preds.loc[ix_val])\n",
    "  rfe_error.loc[iteration, \"logloss_tst\"] = log_loss(df.loc[ix_tst, target], preds.loc[ix_tst])\n",
    "  rfe_error.loc[iteration, \"ap_trn\"] = average_precision_score(df.loc[ix_trn, target], preds.loc[ix_trn])\n",
    "  rfe_error.loc[iteration, \"ap_val\"] = average_precision_score(df.loc[ix_val, target], preds.loc[ix_val])\n",
    "  rfe_error.loc[iteration, \"ap_tst\"] = average_precision_score(df.loc[ix_tst, target], preds.loc[ix_tst])\n",
    "  \n",
    "  feature_drop = error_contribution.idxmax()\n",
    "  features_curr.remove(feature_drop)"
   ]
  },
  {
   "cell_type": "markdown",
   "metadata": {},
   "source": [
    "### 9.2. RFE - Prediction Contribution\n",
    "At each step, we remove the feature with the smallest prediction contribution (i.e. the less important feature)"
   ]
  },
  {
   "cell_type": "code",
   "execution_count": null,
   "metadata": {},
   "outputs": [],
   "source": [
    "rfe_prediction = pd.DataFrame(dtype=float)\n",
    "features_curr = features.copy()\n",
    "feature_drop = None\n",
    "\n",
    "for iteration in tqdm(range(len(features))):\n",
    "  \n",
    "  preds, shaps, shap_expected_value = get_preds_shaps(df=df, features=features_curr, target=target, ix_trn=ix_trn)\n",
    "  prediction_contribution, error_contribution = get_feature_contributions(\n",
    "    y_true=df.loc[ix_val, target], \n",
    "    y_pred=preds.loc[ix_val], \n",
    "    shap_values=shaps.loc[ix_val, :],\n",
    "    shap_expected_value=shap_expected_value\n",
    "  )\n",
    "\n",
    "  rfe_prediction.loc[iteration, \"feature_drop\"] = feature_drop\n",
    "  rfe_prediction.loc[iteration, \"n_features\"] = len(features_curr)\n",
    "  rfe_prediction.loc[iteration, \"contrib\"] = prediction_contribution.min()\n",
    "  rfe_prediction.loc[iteration, \"logloss_trn\"] = log_loss(df.loc[ix_trn, target], preds.loc[ix_trn])\n",
    "  rfe_prediction.loc[iteration, \"logloss_val\"] = log_loss(df.loc[ix_val, target], preds.loc[ix_val])\n",
    "  rfe_prediction.loc[iteration, \"logloss_tst\"] = log_loss(df.loc[ix_tst, target], preds.loc[ix_tst])\n",
    "  rfe_prediction.loc[iteration, \"ap_trn\"] = average_precision_score(df.loc[ix_trn, target], preds.loc[ix_trn])\n",
    "  rfe_prediction.loc[iteration, \"ap_val\"] = average_precision_score(df.loc[ix_val, target], preds.loc[ix_val])\n",
    "  rfe_prediction.loc[iteration, \"ap_tst\"] = average_precision_score(df.loc[ix_tst, target], preds.loc[ix_tst])\n",
    "  \n",
    "  feature_drop = prediction_contribution.idxmin()\n",
    "  features_curr.remove(feature_drop)"
   ]
  },
  {
   "cell_type": "markdown",
   "metadata": {},
   "source": [
    "### 9.3 Write Results"
   ]
  },
  {
   "cell_type": "code",
   "execution_count": 53,
   "metadata": {},
   "outputs": [],
   "source": [
    "rfe_error.to_csv(\"gold_rfe_error.csv\", index=False)\n",
    "rfe_prediction.to_csv(\"gold_rfe_prediction.csv\", index=False)"
   ]
  },
  {
   "cell_type": "markdown",
   "metadata": {},
   "source": [
    "### 9.4 Read Results"
   ]
  },
  {
   "cell_type": "code",
   "execution_count": 28,
   "metadata": {},
   "outputs": [],
   "source": [
    "rfe_error = pd.read_csv(\"gold_rfe_error.csv\")\n",
    "rfe_prediction = pd.read_csv(\"gold_rfe_prediction.csv\")"
   ]
  },
  {
   "cell_type": "markdown",
   "metadata": {},
   "source": [
    "### 9.5 Plot RFE on Validation (Logloss)"
   ]
  },
  {
   "cell_type": "code",
   "execution_count": 29,
   "metadata": {},
   "outputs": [],
   "source": [
    "max_iter_show = len(features) - 9"
   ]
  },
  {
   "cell_type": "code",
   "execution_count": 56,
   "metadata": {},
   "outputs": [
    {
     "data": {
      "image/png": "[encoded data removed]",
      "text/plain": [
       "<Figure size 432x288 with 1 Axes>"
      ]
     },
     "metadata": {
      "needs_background": "light"
     },
     "output_type": "display_data"
    }
   ],
   "source": [
    "fig, ax = plt.subplots()\n",
    "\n",
    "idxmin_prediction = rfe_prediction[\"logloss_val\"].idxmin()\n",
    "idxmin_error = rfe_error[\"logloss_val\"].idxmin()\n",
    "\n",
    "ax.plot(-rfe_prediction.head(max_iter_show)[\"n_features\"], rfe_prediction.head(max_iter_show)[\"logloss_val\"], lw=3, color=\"blue\", label=\"RFE - Prediction\\nContribution\")\n",
    "ax.plot(-rfe_error.head(max_iter_show)[\"n_features\"], rfe_error.head(max_iter_show)[\"logloss_val\"], lw=3, color=\"orange\", label=\"RFE - Error\\nContribution\")\n",
    "ax.scatter(-rfe_prediction.loc[idxmin_prediction,\"n_features\"], rfe_prediction.loc[idxmin_prediction,\"logloss_val\"], s=200, marker=\"o\", facecolors=\"none\", edgecolors=\"red\", lw=3, zorder=100)\n",
    "ax.scatter(-rfe_error.loc[idxmin_error,\"n_features\"], rfe_error.loc[idxmin_error,\"logloss_val\"], s=200, marker=\"o\", facecolors=\"none\", edgecolors=\"red\", lw=3, zorder=100)\n",
    "ax.set_title(\"Validation Set\", fontsize=12)\n",
    "ax.set_ylabel(\"Log Loss\", fontsize=12)\n",
    "ax.set_xlabel(\"N Features\", fontsize=12)\n",
    "ax.set_xticklabels([-int(x) for x in ax.get_xticks()])\n",
    "ax.grid()\n",
    "ax.legend(loc='center left', bbox_to_anchor=(1, 0.5), fontsize=12)\n",
    "ax.tick_params(axis=\"both\", which=\"major\", labelsize=12)\n",
    "\n",
    "fig.savefig(\"rfe_logloss_val_.png\", dpi=200, bbox_inches=\"tight\")"
   ]
  },
  {
   "cell_type": "code",
   "execution_count": 57,
   "metadata": {},
   "outputs": [
    {
     "data": {
      "text/html": [
       "<div>\n",
       "<style scoped>\n",
       "    .dataframe tbody tr th:only-of-type {\n",
       "        vertical-align: middle;\n",
       "    }\n",
       "\n",
       "    .dataframe tbody tr th {\n",
       "        vertical-align: top;\n",
       "    }\n",
       "\n",
       "    .dataframe thead th {\n",
       "        text-align: right;\n",
       "    }\n",
       "</style>\n",
       "<table border=\"1\" class=\"dataframe\">\n",
       "  <thead>\n",
       "    <tr style=\"text-align: right;\">\n",
       "      <th></th>\n",
       "      <th>feature_drop</th>\n",
       "      <th>n_features</th>\n",
       "      <th>contrib</th>\n",
       "      <th>logloss_trn</th>\n",
       "      <th>...</th>\n",
       "      <th>logloss_tst</th>\n",
       "      <th>ap_trn</th>\n",
       "      <th>ap_val</th>\n",
       "      <th>ap_tst</th>\n",
       "    </tr>\n",
       "  </thead>\n",
       "  <tbody>\n",
       "    <tr>\n",
       "      <th>104</th>\n",
       "      <td>Nifty_T-7</td>\n",
       "      <td>16.0</td>\n",
       "      <td>-0.00313</td>\n",
       "      <td>0.003295</td>\n",
       "      <td>...</td>\n",
       "      <td>0.274596</td>\n",
       "      <td>1.0</td>\n",
       "      <td>0.74032</td>\n",
       "      <td>0.700379</td>\n",
       "    </tr>\n",
       "  </tbody>\n",
       "</table>\n",
       "<p>1 rows × 9 columns</p>\n",
       "</div>"
      ],
      "text/plain": [
       "    feature_drop  n_features  contrib  logloss_trn  ...  logloss_tst  ap_trn  \\\n",
       "104    Nifty_T-7        16.0 -0.00313     0.003295  ...     0.274596     1.0   \n",
       "\n",
       "      ap_val    ap_tst  \n",
       "104  0.74032  0.700379  \n",
       "\n",
       "[1 rows x 9 columns]"
      ]
     },
     "execution_count": 57,
     "metadata": {},
     "output_type": "execute_result"
    }
   ],
   "source": [
    "rfe_error.sort_values(\"logloss_val\", ascending=True).head(1)"
   ]
  },
  {
   "cell_type": "code",
   "execution_count": 58,
   "metadata": {},
   "outputs": [
    {
     "data": {
      "text/html": [
       "<div>\n",
       "<style scoped>\n",
       "    .dataframe tbody tr th:only-of-type {\n",
       "        vertical-align: middle;\n",
       "    }\n",
       "\n",
       "    .dataframe tbody tr th {\n",
       "        vertical-align: top;\n",
       "    }\n",
       "\n",
       "    .dataframe thead th {\n",
       "        text-align: right;\n",
       "    }\n",
       "</style>\n",
       "<table border=\"1\" class=\"dataframe\">\n",
       "  <thead>\n",
       "    <tr style=\"text-align: right;\">\n",
       "      <th></th>\n",
       "      <th>feature_drop</th>\n",
       "      <th>n_features</th>\n",
       "      <th>contrib</th>\n",
       "      <th>logloss_trn</th>\n",
       "      <th>...</th>\n",
       "      <th>logloss_tst</th>\n",
       "      <th>ap_trn</th>\n",
       "      <th>ap_val</th>\n",
       "      <th>ap_tst</th>\n",
       "    </tr>\n",
       "  </thead>\n",
       "  <tbody>\n",
       "    <tr>\n",
       "      <th>104</th>\n",
       "      <td>S&amp;P 500_T-14</td>\n",
       "      <td>16.0</td>\n",
       "      <td>0.304652</td>\n",
       "      <td>0.003227</td>\n",
       "      <td>...</td>\n",
       "      <td>0.332467</td>\n",
       "      <td>1.0</td>\n",
       "      <td>0.662959</td>\n",
       "      <td>0.63836</td>\n",
       "    </tr>\n",
       "  </tbody>\n",
       "</table>\n",
       "<p>1 rows × 9 columns</p>\n",
       "</div>"
      ],
      "text/plain": [
       "     feature_drop  n_features   contrib  logloss_trn  ...  logloss_tst  \\\n",
       "104  S&P 500_T-14        16.0  0.304652     0.003227  ...     0.332467   \n",
       "\n",
       "     ap_trn    ap_val   ap_tst  \n",
       "104     1.0  0.662959  0.63836  \n",
       "\n",
       "[1 rows x 9 columns]"
      ]
     },
     "execution_count": 58,
     "metadata": {},
     "output_type": "execute_result"
    }
   ],
   "source": [
    "rfe_prediction.sort_values(\"logloss_val\", ascending=True).head(1)"
   ]
  },
  {
   "cell_type": "markdown",
   "metadata": {},
   "source": [
    "### 9.6 Plot RFE on Test (Logloss)"
   ]
  },
  {
   "cell_type": "code",
   "execution_count": 59,
   "metadata": {},
   "outputs": [
    {
     "data": {
      "image/png": "[encoded data removed]",
      "text/plain": [
       "<Figure size 432x288 with 1 Axes>"
      ]
     },
     "metadata": {
      "needs_background": "light"
     },
     "output_type": "display_data"
    }
   ],
   "source": [
    "fig, ax = plt.subplots()\n",
    "\n",
    "idxmin_prediction = rfe_prediction[\"logloss_val\"].idxmin()\n",
    "idxmin_error = rfe_error[\"logloss_val\"].idxmin()\n",
    "\n",
    "ax.plot(-rfe_prediction.head(max_iter_show)[\"n_features\"], rfe_prediction.head(max_iter_show)[\"logloss_tst\"], lw=3, color=\"blue\", label=\"RFE - Prediction\\nContribution\")\n",
    "ax.plot(-rfe_error.head(max_iter_show)[\"n_features\"], rfe_error.head(max_iter_show)[\"logloss_tst\"], lw=3, color=\"orange\", label=\"RFE - Error\\nContribution\")\n",
    "ax.scatter(-rfe_prediction.loc[idxmin_prediction,\"n_features\"], rfe_prediction.loc[idxmin_prediction,\"logloss_tst\"], s=200, marker=\"o\", facecolors=\"none\", edgecolors=\"red\", lw=3, zorder=100)\n",
    "ax.scatter(-rfe_error.loc[idxmin_error,\"n_features\"], rfe_error.loc[idxmin_error,\"logloss_tst\"], s=200, marker=\"o\", facecolors=\"none\", edgecolors=\"red\", lw=3, zorder=100)\n",
    "ax.set_title(\"Test Set\", fontsize=12)\n",
    "ax.set_ylabel(\"Log Loss\", fontsize=12)\n",
    "ax.set_xlabel(\"N Features\", fontsize=12)\n",
    "ax.set_xticklabels([-int(x) for x in ax.get_xticks()])\n",
    "ax.grid()\n",
    "ax.legend(loc='center left', bbox_to_anchor=(1, 0.5), fontsize=12)\n",
    "ax.tick_params(axis=\"both\", which=\"major\", labelsize=12)\n",
    "\n",
    "fig.savefig(\"rfe_logloss_tst_.png\", dpi=200, bbox_inches=\"tight\")"
   ]
  },
  {
   "cell_type": "markdown",
   "metadata": {},
   "source": [
    "### 9.7 Plot RFE on Validation (Average Precision)"
   ]
  },
  {
   "cell_type": "code",
   "execution_count": 35,
   "metadata": {},
   "outputs": [
    {
     "data": {
      "image/png": "[encoded data removed]",
      "text/plain": [
       "<Figure size 432x288 with 1 Axes>"
      ]
     },
     "metadata": {
      "needs_background": "light"
     },
     "output_type": "display_data"
    }
   ],
   "source": [
    "fig, ax = plt.subplots()\n",
    "\n",
    "idxmax_prediction = rfe_prediction[\"ap_val\"].idxmax()\n",
    "idxmax_error = rfe_error[\"ap_val\"].idxmax()\n",
    "\n",
    "ax.plot(-rfe_error.head(max_iter_show)[\"n_features\"], rfe_error.head(max_iter_show)[\"ap_val\"], lw=3, color=\"orange\", label=\"RFE - Error\\nContribution\")\n",
    "ax.plot(-rfe_prediction.head(max_iter_show)[\"n_features\"], rfe_prediction.head(max_iter_show)[\"ap_val\"], lw=3, color=\"blue\", label=\"RFE - Prediction\\nContribution\")\n",
    "ax.scatter(-rfe_prediction.loc[idxmax_prediction,\"n_features\"], rfe_prediction.loc[idxmax_prediction,\"ap_val\"], s=200, marker=\"o\", facecolors=\"none\", edgecolors=\"red\", lw=3, zorder=100)\n",
    "ax.scatter(-rfe_error.loc[idxmax_error,\"n_features\"], rfe_error.loc[idxmax_error,\"ap_val\"], s=200, marker=\"o\", facecolors=\"none\", edgecolors=\"red\", lw=3, zorder=100)\n",
    "ax.set_title(\"Validation Set\", fontsize=12)\n",
    "ax.set_ylabel(\"Average Precision\", fontsize=12)\n",
    "ax.set_xlabel(\"N Features\", fontsize=12)\n",
    "ax.set_xticklabels([-int(x) for x in ax.get_xticks()])\n",
    "ax.grid()\n",
    "ax.legend(loc='center left', bbox_to_anchor=(1, 0.5), fontsize=12)\n",
    "ax.tick_params(axis=\"both\", which=\"major\", labelsize=12)\n",
    "\n",
    "fig.savefig(\"rfe_ap_val_.png\", dpi=200, bbox_inches=\"tight\")"
   ]
  },
  {
   "cell_type": "code",
   "execution_count": 31,
   "metadata": {},
   "outputs": [
    {
     "data": {
      "text/html": [
       "<div>\n",
       "<style scoped>\n",
       "    .dataframe tbody tr th:only-of-type {\n",
       "        vertical-align: middle;\n",
       "    }\n",
       "\n",
       "    .dataframe tbody tr th {\n",
       "        vertical-align: top;\n",
       "    }\n",
       "\n",
       "    .dataframe thead th {\n",
       "        text-align: right;\n",
       "    }\n",
       "</style>\n",
       "<table border=\"1\" class=\"dataframe\">\n",
       "  <thead>\n",
       "    <tr style=\"text-align: right;\">\n",
       "      <th></th>\n",
       "      <th>feature_drop</th>\n",
       "      <th>n_features</th>\n",
       "      <th>contrib</th>\n",
       "      <th>logloss_trn</th>\n",
       "      <th>...</th>\n",
       "      <th>logloss_tst</th>\n",
       "      <th>ap_trn</th>\n",
       "      <th>ap_val</th>\n",
       "      <th>ap_tst</th>\n",
       "    </tr>\n",
       "  </thead>\n",
       "  <tbody>\n",
       "    <tr>\n",
       "      <th>101</th>\n",
       "      <td>INR_T-14</td>\n",
       "      <td>19.0</td>\n",
       "      <td>-0.000959</td>\n",
       "      <td>0.002888</td>\n",
       "      <td>...</td>\n",
       "      <td>0.256222</td>\n",
       "      <td>1.0</td>\n",
       "      <td>0.747679</td>\n",
       "      <td>0.72811</td>\n",
       "    </tr>\n",
       "  </tbody>\n",
       "</table>\n",
       "<p>1 rows × 9 columns</p>\n",
       "</div>"
      ],
      "text/plain": [
       "    feature_drop  n_features   contrib  logloss_trn  ...  logloss_tst  ap_trn  \\\n",
       "101     INR_T-14        19.0 -0.000959     0.002888  ...     0.256222     1.0   \n",
       "\n",
       "       ap_val   ap_tst  \n",
       "101  0.747679  0.72811  \n",
       "\n",
       "[1 rows x 9 columns]"
      ]
     },
     "execution_count": 31,
     "metadata": {},
     "output_type": "execute_result"
    }
   ],
   "source": [
    "rfe_error.sort_values(\"ap_val\", ascending=False).head(1)"
   ]
  },
  {
   "cell_type": "code",
   "execution_count": 32,
   "metadata": {
    "scrolled": true
   },
   "outputs": [
    {
     "data": {
      "text/html": [
       "<div>\n",
       "<style scoped>\n",
       "    .dataframe tbody tr th:only-of-type {\n",
       "        vertical-align: middle;\n",
       "    }\n",
       "\n",
       "    .dataframe tbody tr th {\n",
       "        vertical-align: top;\n",
       "    }\n",
       "\n",
       "    .dataframe thead th {\n",
       "        text-align: right;\n",
       "    }\n",
       "</style>\n",
       "<table border=\"1\" class=\"dataframe\">\n",
       "  <thead>\n",
       "    <tr style=\"text-align: right;\">\n",
       "      <th></th>\n",
       "      <th>feature_drop</th>\n",
       "      <th>n_features</th>\n",
       "      <th>contrib</th>\n",
       "      <th>logloss_trn</th>\n",
       "      <th>...</th>\n",
       "      <th>logloss_tst</th>\n",
       "      <th>ap_trn</th>\n",
       "      <th>ap_val</th>\n",
       "      <th>ap_tst</th>\n",
       "    </tr>\n",
       "  </thead>\n",
       "  <tbody>\n",
       "    <tr>\n",
       "      <th>106</th>\n",
       "      <td>INR_T-14</td>\n",
       "      <td>14.0</td>\n",
       "      <td>0.366041</td>\n",
       "      <td>0.003611</td>\n",
       "      <td>...</td>\n",
       "      <td>0.322916</td>\n",
       "      <td>1.0</td>\n",
       "      <td>0.664506</td>\n",
       "      <td>0.655899</td>\n",
       "    </tr>\n",
       "  </tbody>\n",
       "</table>\n",
       "<p>1 rows × 9 columns</p>\n",
       "</div>"
      ],
      "text/plain": [
       "    feature_drop  n_features   contrib  logloss_trn  ...  logloss_tst  ap_trn  \\\n",
       "106     INR_T-14        14.0  0.366041     0.003611  ...     0.322916     1.0   \n",
       "\n",
       "       ap_val    ap_tst  \n",
       "106  0.664506  0.655899  \n",
       "\n",
       "[1 rows x 9 columns]"
      ]
     },
     "execution_count": 32,
     "metadata": {},
     "output_type": "execute_result"
    }
   ],
   "source": [
    "rfe_prediction.sort_values(\"ap_val\", ascending=False).head(1)"
   ]
  },
  {
   "cell_type": "markdown",
   "metadata": {},
   "source": [
    "### 9.8 Plot RFE on Test (Average Precision)"
   ]
  },
  {
   "cell_type": "code",
   "execution_count": 34,
   "metadata": {},
   "outputs": [
    {
     "data": {
      "image/png": "[encoded data removed]",
      "text/plain": [
       "<Figure size 432x288 with 1 Axes>"
      ]
     },
     "metadata": {
      "needs_background": "light"
     },
     "output_type": "display_data"
    }
   ],
   "source": [
    "fig, ax = plt.subplots()\n",
    "\n",
    "idxmax_prediction = rfe_prediction[\"ap_val\"].idxmax()\n",
    "idxmax_error = rfe_error[\"ap_val\"].idxmax()\n",
    "\n",
    "ax.plot(-rfe_error.head(max_iter_show)[\"n_features\"], rfe_error.head(max_iter_show)[\"ap_tst\"], lw=3, color=\"orange\", label=\"RFE - Error\\nContribution\")\n",
    "ax.plot(-rfe_prediction.head(max_iter_show)[\"n_features\"], rfe_prediction.head(max_iter_show)[\"ap_tst\"], lw=3, color=\"blue\", label=\"RFE - Prediction\\nContribution\")\n",
    "ax.scatter(-rfe_prediction.loc[idxmax_prediction,\"n_features\"], rfe_prediction.loc[idxmax_prediction,\"ap_tst\"], s=200, marker=\"o\", facecolors=\"none\", edgecolors=\"red\", lw=3, zorder=100)\n",
    "ax.scatter(-rfe_error.loc[idxmax_error,\"n_features\"], rfe_error.loc[idxmax_error,\"ap_tst\"], s=200, marker=\"o\", facecolors=\"none\", edgecolors=\"red\", lw=3, zorder=100)\n",
    "ax.set_title(\"Test Set\", fontsize=12)\n",
    "ax.set_ylabel(\"Average Precision\", fontsize=12)\n",
    "ax.set_xlabel(\"N Features\", fontsize=12)\n",
    "ax.set_xticklabels([-int(x) for x in ax.get_xticks()])\n",
    "ax.grid()\n",
    "ax.legend(loc='center left', bbox_to_anchor=(1, 0.5), fontsize=12)\n",
    "ax.tick_params(axis=\"both\", which=\"major\", labelsize=12)\n",
    "\n",
    "fig.savefig(\"rfe_ap_tst_.png\", dpi=200, bbox_inches=\"tight\")"
   ]
  }
 ],
 "metadata": {
  "kernelspec": {
   "display_name": "dev",
   "language": "python",
   "name": "dev"
  },
  "language_info": {
   "codemirror_mode": {
    "name": "ipython",
    "version": 3
   },
   "file_extension": ".py",
   "mimetype": "text/x-python",
   "name": "python",
   "nbconvert_exporter": "python",
   "pygments_lexer": "ipython3",
   "version": "3.6.10"
  }
 },
 "nbformat": 4,
 "nbformat_minor": 4
}
