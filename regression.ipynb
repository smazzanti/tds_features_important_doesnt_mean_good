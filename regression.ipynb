{
 "cells": [
  {
   "cell_type": "markdown",
   "metadata": {},
   "source": [
    "# 1. Import"
   ]
  },
  {
   "cell_type": "code",
   "execution_count": 1,
   "metadata": {},
   "outputs": [],
   "source": [
    "import warnings\n",
    "import re\n",
    "import numpy as np\n",
    "import pandas as pd\n",
    "from pycaret.datasets import get_data\n",
    "from sklearn.tree import DecisionTreeRegressor\n",
    "from sklearn.model_selection import KFold\n",
    "from sklearn.model_selection import train_test_split\n",
    "from sklearn.pipeline import Pipeline, FeatureUnion\n",
    "from category_encoders import LeaveOneOutEncoder, CatBoostEncoder, TargetEncoder, JamesSteinEncoder\n",
    "from sklearn.ensemble import RandomForestClassifier\n",
    "from sklearn.linear_model import LogisticRegression\n",
    "from sklearn.neighbors import KNeighborsClassifier, KNeighborsRegressor\n",
    "from catboost import CatBoostClassifier, CatBoostRegressor, Pool\n",
    "from lightgbm import LGBMClassifier, LGBMRegressor\n",
    "from xgboost import XGBClassifier, XGBRegressor\n",
    "from sklearn.model_selection import cross_val_score, cross_val_predict\n",
    "from sklearn.preprocessing import FunctionTransformer\n",
    "from sklearn.metrics import roc_auc_score, r2_score, mean_absolute_error\n",
    "from sklearn.linear_model import Lasso, Ridge\n",
    "from sklearn.preprocessing import StandardScaler\n",
    "from sklearn.dummy import DummyRegressor\n",
    "from tqdm import tqdm\n",
    "from sklearn.experimental import enable_iterative_imputer\n",
    "from sklearn.impute import SimpleImputer, IterativeImputer, KNNImputer, MissingIndicator\n",
    "from shap import TreeExplainer\n",
    "from scipy.interpolate import interp1d\n",
    "import matplotlib.pyplot as plt"
   ]
  },
  {
   "cell_type": "code",
   "execution_count": 2,
   "metadata": {},
   "outputs": [],
   "source": [
    "warnings.filterwarnings(\"ignore\")"
   ]
  },
  {
   "cell_type": "markdown",
   "metadata": {},
   "source": [
    "# 2. Utils"
   ]
  },
  {
   "cell_type": "code",
   "execution_count": 3,
   "metadata": {},
   "outputs": [],
   "source": [
    "def get_preds_shaps(df, features, target, ix_trn):\n",
    "  model = LGBMRegressor().fit(df.loc[ix_trn, features], df.loc[ix_trn, target])\n",
    "  preds = pd.Series(model.predict(df[features]), index=df.index)\n",
    "  shap_explainer = TreeExplainer(model)\n",
    "  shaps = pd.DataFrame(\n",
    "    data=shap_explainer.shap_values(df[features]),\n",
    "    index=df.index,\n",
    "    columns=features)\n",
    "  return preds, shaps"
   ]
  },
  {
   "cell_type": "code",
   "execution_count": 4,
   "metadata": {},
   "outputs": [],
   "source": [
    "def get_feature_contributions(y_true, y_pred, shap_values):\n",
    "  \"\"\"Compute prediction contribution and error contribution for each feature.\"\"\"\n",
    "\n",
    "  prediction_contribution = shap_values.abs().mean().rename(\"prediction_contribution\")\n",
    "\n",
    "  abs_error = (y_true - y_pred).abs()\n",
    "  y_pred_wo_feature = shap_values.apply(lambda feature: y_pred - feature)\n",
    "  abs_error_wo_feature = y_pred_wo_feature.apply(lambda feature: (y_true - feature).abs())\n",
    "  error_contribution = abs_error_wo_feature.apply(lambda feature: abs_error - feature).mean().rename(\"error_contribution\")\n",
    "      \n",
    "  return prediction_contribution, error_contribution"
   ]
  },
  {
   "cell_type": "markdown",
   "metadata": {},
   "source": [
    "# 3. Toy Example"
   ]
  },
  {
   "cell_type": "markdown",
   "metadata": {},
   "source": [
    "### 3.1 Generate data"
   ]
  },
  {
   "cell_type": "code",
   "execution_count": 5,
   "metadata": {},
   "outputs": [],
   "source": [
    "shap_values = pd.DataFrame([\n",
    "  [65,  12,   8],\n",
    "  [72,   3, -22],\n",
    "  [78, -23,  15]], columns=[\"job\", \"age\", \"nationality\"])\n",
    "y_pred = shap_values.sum(axis=1).rename(\"income (predicted)\")\n",
    "y_true = pd.Series([74, 68, 58], name=\"income (true)\")"
   ]
  },
  {
   "cell_type": "markdown",
   "metadata": {},
   "source": [
    "### 3.2 Compute Prediction Contribution and Error Contribution"
   ]
  },
  {
   "cell_type": "code",
   "execution_count": 6,
   "metadata": {},
   "outputs": [],
   "source": [
    "abs_error = (y_true - y_pred).abs().rename(\"absolute error\")\n",
    "\n",
    "prediction_contribution = shap_values.abs().mean().round(2).rename(\"prediction_contribution\").to_frame().T\n",
    "\n",
    "y_pred_wo_feature = shap_values.apply(lambda feature: y_pred - feature)\n",
    "abs_error_wo_feature = y_pred_wo_feature.apply(lambda feature: (y_true - feature).abs())\n",
    "error_diff = abs_error_wo_feature.apply(lambda feature: abs_error - feature)\n",
    "error_contribution = error_diff.mean().round(2).rename(\"error_contribution\").to_frame().T"
   ]
  },
  {
   "cell_type": "markdown",
   "metadata": {},
   "source": [
    "### 3.3 Display items"
   ]
  },
  {
   "cell_type": "code",
   "execution_count": 7,
   "metadata": {},
   "outputs": [
    {
     "data": {
      "text/html": [
       "<div>\n",
       "<style scoped>\n",
       "    .dataframe tbody tr th:only-of-type {\n",
       "        vertical-align: middle;\n",
       "    }\n",
       "\n",
       "    .dataframe tbody tr th {\n",
       "        vertical-align: top;\n",
       "    }\n",
       "\n",
       "    .dataframe thead th {\n",
       "        text-align: right;\n",
       "    }\n",
       "</style>\n",
       "<table border=\"1\" class=\"dataframe\">\n",
       "  <thead>\n",
       "    <tr style=\"text-align: right;\">\n",
       "      <th></th>\n",
       "      <th>income (true)</th>\n",
       "      <th>income (predicted)</th>\n",
       "      <th>absolute error</th>\n",
       "    </tr>\n",
       "  </thead>\n",
       "  <tbody>\n",
       "    <tr>\n",
       "      <th>0</th>\n",
       "      <td>74</td>\n",
       "      <td>85</td>\n",
       "      <td>11</td>\n",
       "    </tr>\n",
       "    <tr>\n",
       "      <th>1</th>\n",
       "      <td>68</td>\n",
       "      <td>53</td>\n",
       "      <td>15</td>\n",
       "    </tr>\n",
       "    <tr>\n",
       "      <th>2</th>\n",
       "      <td>58</td>\n",
       "      <td>70</td>\n",
       "      <td>12</td>\n",
       "    </tr>\n",
       "  </tbody>\n",
       "</table>\n",
       "</div>"
      ],
      "text/plain": [
       "   income (true)  income (predicted)  absolute error\n",
       "0             74                  85              11\n",
       "1             68                  53              15\n",
       "2             58                  70              12"
      ]
     },
     "execution_count": 7,
     "metadata": {},
     "output_type": "execute_result"
    }
   ],
   "source": [
    "pd.concat([y_true, y_pred, abs_error], axis=1)"
   ]
  },
  {
   "cell_type": "code",
   "execution_count": 8,
   "metadata": {},
   "outputs": [
    {
     "data": {
      "text/html": [
       "<div>\n",
       "<style scoped>\n",
       "    .dataframe tbody tr th:only-of-type {\n",
       "        vertical-align: middle;\n",
       "    }\n",
       "\n",
       "    .dataframe tbody tr th {\n",
       "        vertical-align: top;\n",
       "    }\n",
       "\n",
       "    .dataframe thead th {\n",
       "        text-align: right;\n",
       "    }\n",
       "</style>\n",
       "<table border=\"1\" class=\"dataframe\">\n",
       "  <thead>\n",
       "    <tr style=\"text-align: right;\">\n",
       "      <th></th>\n",
       "      <th>job</th>\n",
       "      <th>age</th>\n",
       "      <th>nationality</th>\n",
       "    </tr>\n",
       "  </thead>\n",
       "  <tbody>\n",
       "    <tr>\n",
       "      <th>0</th>\n",
       "      <td>65</td>\n",
       "      <td>12</td>\n",
       "      <td>8</td>\n",
       "    </tr>\n",
       "    <tr>\n",
       "      <th>1</th>\n",
       "      <td>72</td>\n",
       "      <td>3</td>\n",
       "      <td>-22</td>\n",
       "    </tr>\n",
       "    <tr>\n",
       "      <th>2</th>\n",
       "      <td>78</td>\n",
       "      <td>-23</td>\n",
       "      <td>15</td>\n",
       "    </tr>\n",
       "  </tbody>\n",
       "</table>\n",
       "</div>"
      ],
      "text/plain": [
       "   job  age  nationality\n",
       "0   65   12            8\n",
       "1   72    3          -22\n",
       "2   78  -23           15"
      ]
     },
     "execution_count": 8,
     "metadata": {},
     "output_type": "execute_result"
    }
   ],
   "source": [
    "shap_values"
   ]
  },
  {
   "cell_type": "code",
   "execution_count": 9,
   "metadata": {},
   "outputs": [
    {
     "data": {
      "text/html": [
       "<div>\n",
       "<style scoped>\n",
       "    .dataframe tbody tr th:only-of-type {\n",
       "        vertical-align: middle;\n",
       "    }\n",
       "\n",
       "    .dataframe tbody tr th {\n",
       "        vertical-align: top;\n",
       "    }\n",
       "\n",
       "    .dataframe thead th {\n",
       "        text-align: right;\n",
       "    }\n",
       "</style>\n",
       "<table border=\"1\" class=\"dataframe\">\n",
       "  <thead>\n",
       "    <tr style=\"text-align: right;\">\n",
       "      <th></th>\n",
       "      <th>job</th>\n",
       "      <th>age</th>\n",
       "      <th>nationality</th>\n",
       "    </tr>\n",
       "  </thead>\n",
       "  <tbody>\n",
       "    <tr>\n",
       "      <th>prediction_contribution</th>\n",
       "      <td>71.67</td>\n",
       "      <td>12.67</td>\n",
       "      <td>15.0</td>\n",
       "    </tr>\n",
       "  </tbody>\n",
       "</table>\n",
       "</div>"
      ],
      "text/plain": [
       "                           job    age  nationality\n",
       "prediction_contribution  71.67  12.67         15.0"
      ]
     },
     "execution_count": 9,
     "metadata": {},
     "output_type": "execute_result"
    }
   ],
   "source": [
    "prediction_contribution"
   ]
  },
  {
   "cell_type": "code",
   "execution_count": 10,
   "metadata": {},
   "outputs": [
    {
     "data": {
      "text/html": [
       "<div>\n",
       "<style scoped>\n",
       "    .dataframe tbody tr th:only-of-type {\n",
       "        vertical-align: middle;\n",
       "    }\n",
       "\n",
       "    .dataframe tbody tr th {\n",
       "        vertical-align: top;\n",
       "    }\n",
       "\n",
       "    .dataframe thead th {\n",
       "        text-align: right;\n",
       "    }\n",
       "</style>\n",
       "<table border=\"1\" class=\"dataframe\">\n",
       "  <thead>\n",
       "    <tr style=\"text-align: right;\">\n",
       "      <th></th>\n",
       "      <th>job</th>\n",
       "      <th>age</th>\n",
       "      <th>nationality</th>\n",
       "    </tr>\n",
       "  </thead>\n",
       "  <tbody>\n",
       "    <tr>\n",
       "      <th>0</th>\n",
       "      <td>20</td>\n",
       "      <td>73</td>\n",
       "      <td>77</td>\n",
       "    </tr>\n",
       "    <tr>\n",
       "      <th>1</th>\n",
       "      <td>-19</td>\n",
       "      <td>50</td>\n",
       "      <td>75</td>\n",
       "    </tr>\n",
       "    <tr>\n",
       "      <th>2</th>\n",
       "      <td>-8</td>\n",
       "      <td>93</td>\n",
       "      <td>55</td>\n",
       "    </tr>\n",
       "  </tbody>\n",
       "</table>\n",
       "</div>"
      ],
      "text/plain": [
       "   job  age  nationality\n",
       "0   20   73           77\n",
       "1  -19   50           75\n",
       "2   -8   93           55"
      ]
     },
     "execution_count": 10,
     "metadata": {},
     "output_type": "execute_result"
    }
   ],
   "source": [
    "y_pred_wo_feature"
   ]
  },
  {
   "cell_type": "code",
   "execution_count": 11,
   "metadata": {},
   "outputs": [
    {
     "data": {
      "text/html": [
       "<div>\n",
       "<style scoped>\n",
       "    .dataframe tbody tr th:only-of-type {\n",
       "        vertical-align: middle;\n",
       "    }\n",
       "\n",
       "    .dataframe tbody tr th {\n",
       "        vertical-align: top;\n",
       "    }\n",
       "\n",
       "    .dataframe thead th {\n",
       "        text-align: right;\n",
       "    }\n",
       "</style>\n",
       "<table border=\"1\" class=\"dataframe\">\n",
       "  <thead>\n",
       "    <tr style=\"text-align: right;\">\n",
       "      <th></th>\n",
       "      <th>job</th>\n",
       "      <th>age</th>\n",
       "      <th>nationality</th>\n",
       "    </tr>\n",
       "  </thead>\n",
       "  <tbody>\n",
       "    <tr>\n",
       "      <th>0</th>\n",
       "      <td>54</td>\n",
       "      <td>1</td>\n",
       "      <td>3</td>\n",
       "    </tr>\n",
       "    <tr>\n",
       "      <th>1</th>\n",
       "      <td>87</td>\n",
       "      <td>18</td>\n",
       "      <td>7</td>\n",
       "    </tr>\n",
       "    <tr>\n",
       "      <th>2</th>\n",
       "      <td>66</td>\n",
       "      <td>35</td>\n",
       "      <td>3</td>\n",
       "    </tr>\n",
       "  </tbody>\n",
       "</table>\n",
       "</div>"
      ],
      "text/plain": [
       "   job  age  nationality\n",
       "0   54    1            3\n",
       "1   87   18            7\n",
       "2   66   35            3"
      ]
     },
     "execution_count": 11,
     "metadata": {},
     "output_type": "execute_result"
    }
   ],
   "source": [
    "abs_error_wo_feature"
   ]
  },
  {
   "cell_type": "code",
   "execution_count": 12,
   "metadata": {},
   "outputs": [
    {
     "data": {
      "text/html": [
       "<div>\n",
       "<style scoped>\n",
       "    .dataframe tbody tr th:only-of-type {\n",
       "        vertical-align: middle;\n",
       "    }\n",
       "\n",
       "    .dataframe tbody tr th {\n",
       "        vertical-align: top;\n",
       "    }\n",
       "\n",
       "    .dataframe thead th {\n",
       "        text-align: right;\n",
       "    }\n",
       "</style>\n",
       "<table border=\"1\" class=\"dataframe\">\n",
       "  <thead>\n",
       "    <tr style=\"text-align: right;\">\n",
       "      <th></th>\n",
       "      <th>job</th>\n",
       "      <th>age</th>\n",
       "      <th>nationality</th>\n",
       "    </tr>\n",
       "  </thead>\n",
       "  <tbody>\n",
       "    <tr>\n",
       "      <th>0</th>\n",
       "      <td>-43</td>\n",
       "      <td>10</td>\n",
       "      <td>8</td>\n",
       "    </tr>\n",
       "    <tr>\n",
       "      <th>1</th>\n",
       "      <td>-72</td>\n",
       "      <td>-3</td>\n",
       "      <td>8</td>\n",
       "    </tr>\n",
       "    <tr>\n",
       "      <th>2</th>\n",
       "      <td>-54</td>\n",
       "      <td>-23</td>\n",
       "      <td>9</td>\n",
       "    </tr>\n",
       "  </tbody>\n",
       "</table>\n",
       "</div>"
      ],
      "text/plain": [
       "   job  age  nationality\n",
       "0  -43   10            8\n",
       "1  -72   -3            8\n",
       "2  -54  -23            9"
      ]
     },
     "execution_count": 12,
     "metadata": {},
     "output_type": "execute_result"
    }
   ],
   "source": [
    "error_diff"
   ]
  },
  {
   "cell_type": "code",
   "execution_count": 13,
   "metadata": {},
   "outputs": [
    {
     "data": {
      "text/html": [
       "<div>\n",
       "<style scoped>\n",
       "    .dataframe tbody tr th:only-of-type {\n",
       "        vertical-align: middle;\n",
       "    }\n",
       "\n",
       "    .dataframe tbody tr th {\n",
       "        vertical-align: top;\n",
       "    }\n",
       "\n",
       "    .dataframe thead th {\n",
       "        text-align: right;\n",
       "    }\n",
       "</style>\n",
       "<table border=\"1\" class=\"dataframe\">\n",
       "  <thead>\n",
       "    <tr style=\"text-align: right;\">\n",
       "      <th></th>\n",
       "      <th>job</th>\n",
       "      <th>age</th>\n",
       "      <th>nationality</th>\n",
       "    </tr>\n",
       "  </thead>\n",
       "  <tbody>\n",
       "    <tr>\n",
       "      <th>error_contribution</th>\n",
       "      <td>-56.33</td>\n",
       "      <td>-5.33</td>\n",
       "      <td>8.33</td>\n",
       "    </tr>\n",
       "  </tbody>\n",
       "</table>\n",
       "</div>"
      ],
      "text/plain": [
       "                      job   age  nationality\n",
       "error_contribution -56.33 -5.33         8.33"
      ]
     },
     "execution_count": 13,
     "metadata": {},
     "output_type": "execute_result"
    }
   ],
   "source": [
    "error_contribution"
   ]
  },
  {
   "cell_type": "markdown",
   "metadata": {},
   "source": [
    "# 4. Real dataset"
   ]
  },
  {
   "cell_type": "code",
   "execution_count": 14,
   "metadata": {},
   "outputs": [],
   "source": [
    "df = get_data(\"gold\", verbose=False)\n",
    "df *= 100\n",
    "\n",
    "target = \"Gold_T+22\"\n",
    "\n",
    "features = [f for f in df.columns if f != target]\n",
    "argsort = np.argsort([f.split(\"T-\")[0] + \"T-\" + \"{:2.1f}\".format(float(f.split(\"T-\")[1])).zfill(4) for f in features])\n",
    "features = [features[arg] for arg in argsort]"
   ]
  },
  {
   "cell_type": "markdown",
   "metadata": {},
   "source": [
    "# 5. Data Analysis"
   ]
  },
  {
   "cell_type": "code",
   "execution_count": 15,
   "metadata": {},
   "outputs": [
    {
     "data": {
      "text/plain": [
       "count    2558.000000\n",
       "mean        0.322176\n",
       "std         4.419812\n",
       "min       -14.910681\n",
       "25%        -2.361938\n",
       "50%         0.144122\n",
       "75%         3.153245\n",
       "max        19.472259\n",
       "Name: Gold_T+22, dtype: float64"
      ]
     },
     "execution_count": 15,
     "metadata": {},
     "output_type": "execute_result"
    }
   ],
   "source": [
    "df[target].describe()"
   ]
  },
  {
   "cell_type": "code",
   "execution_count": 16,
   "metadata": {},
   "outputs": [
    {
     "data": {
      "image/png": "[encoded data removed]",
      "text/plain": [
       "<Figure size 432x288 with 1 Axes>"
      ]
     },
     "metadata": {
      "needs_background": "light"
     },
     "output_type": "display_data"
    }
   ],
   "source": [
    "fig, ax = plt.subplots()\n",
    "\n",
    "ax.hist(df[target], bins=\"fd\")\n",
    "ax.grid(); ax.set_axisbelow(True)\n",
    "ax.tick_params(axis=\"both\", which=\"major\", labelsize=12)\n",
    "ax.set_xlabel(\"Gold Return (%) - 22 Days Ahead\", fontsize=12)\n",
    "\n",
    "fig.savefig(\"target_hist.png\", dpi=200, bbox_inches=\"tight\")"
   ]
  },
  {
   "cell_type": "code",
   "execution_count": 17,
   "metadata": {},
   "outputs": [
    {
     "data": {
      "text/html": [
       "<div>\n",
       "<style scoped>\n",
       "    .dataframe tbody tr th:only-of-type {\n",
       "        vertical-align: middle;\n",
       "    }\n",
       "\n",
       "    .dataframe tbody tr th {\n",
       "        vertical-align: top;\n",
       "    }\n",
       "\n",
       "    .dataframe thead th {\n",
       "        text-align: right;\n",
       "    }\n",
       "</style>\n",
       "<table border=\"1\" class=\"dataframe\">\n",
       "  <thead>\n",
       "    <tr style=\"text-align: right;\">\n",
       "      <th></th>\n",
       "      <th>3M Libor_T-1</th>\n",
       "      <th>3M Libor_T-7</th>\n",
       "      <th>3M Libor_T-14</th>\n",
       "      <th>3M Libor_T-22</th>\n",
       "      <th>...</th>\n",
       "      <th>Yuan_T-7</th>\n",
       "      <th>Yuan_T-14</th>\n",
       "      <th>Yuan_T-22</th>\n",
       "      <th>Gold_T+22</th>\n",
       "    </tr>\n",
       "  </thead>\n",
       "  <tbody>\n",
       "    <tr>\n",
       "      <th>0</th>\n",
       "      <td>0.00</td>\n",
       "      <td>-1.80</td>\n",
       "      <td>-2.90</td>\n",
       "      <td>-4.07</td>\n",
       "      <td>...</td>\n",
       "      <td>-0.01</td>\n",
       "      <td>-0.02</td>\n",
       "      <td>-0.00</td>\n",
       "      <td>0.46</td>\n",
       "    </tr>\n",
       "    <tr>\n",
       "      <th>1</th>\n",
       "      <td>-0.46</td>\n",
       "      <td>-1.47</td>\n",
       "      <td>-3.34</td>\n",
       "      <td>-4.51</td>\n",
       "      <td>...</td>\n",
       "      <td>-0.01</td>\n",
       "      <td>-0.04</td>\n",
       "      <td>-0.01</td>\n",
       "      <td>-0.21</td>\n",
       "    </tr>\n",
       "    <tr>\n",
       "      <th>...</th>\n",
       "      <td>...</td>\n",
       "      <td>...</td>\n",
       "      <td>...</td>\n",
       "      <td>...</td>\n",
       "      <td>...</td>\n",
       "      <td>...</td>\n",
       "      <td>...</td>\n",
       "      <td>...</td>\n",
       "      <td>...</td>\n",
       "    </tr>\n",
       "    <tr>\n",
       "      <th>2556</th>\n",
       "      <td>-0.23</td>\n",
       "      <td>0.02</td>\n",
       "      <td>-1.18</td>\n",
       "      <td>-6.73</td>\n",
       "      <td>...</td>\n",
       "      <td>1.25</td>\n",
       "      <td>1.88</td>\n",
       "      <td>3.98</td>\n",
       "      <td>-2.03</td>\n",
       "    </tr>\n",
       "    <tr>\n",
       "      <th>2557</th>\n",
       "      <td>-0.29</td>\n",
       "      <td>-0.83</td>\n",
       "      <td>-1.93</td>\n",
       "      <td>-5.03</td>\n",
       "      <td>...</td>\n",
       "      <td>1.21</td>\n",
       "      <td>2.22</td>\n",
       "      <td>3.46</td>\n",
       "      <td>-2.71</td>\n",
       "    </tr>\n",
       "  </tbody>\n",
       "</table>\n",
       "<p>2558 rows × 121 columns</p>\n",
       "</div>"
      ],
      "text/plain": [
       "      3M Libor_T-1  3M Libor_T-7  3M Libor_T-14  3M Libor_T-22  ...  Yuan_T-7  \\\n",
       "0             0.00         -1.80          -2.90          -4.07  ...     -0.01   \n",
       "1            -0.46         -1.47          -3.34          -4.51  ...     -0.01   \n",
       "...            ...           ...            ...            ...  ...       ...   \n",
       "2556         -0.23          0.02          -1.18          -6.73  ...      1.25   \n",
       "2557         -0.29         -0.83          -1.93          -5.03  ...      1.21   \n",
       "\n",
       "      Yuan_T-14  Yuan_T-22  Gold_T+22  \n",
       "0         -0.02      -0.00       0.46  \n",
       "1         -0.04      -0.01      -0.21  \n",
       "...         ...        ...        ...  \n",
       "2556       1.88       3.98      -2.03  \n",
       "2557       2.22       3.46      -2.71  \n",
       "\n",
       "[2558 rows x 121 columns]"
      ]
     },
     "execution_count": 17,
     "metadata": {},
     "output_type": "execute_result"
    }
   ],
   "source": [
    "pd.set_option('display.max_columns', 8)\n",
    "pd.set_option(\"display.max_rows\", 5)\n",
    "\n",
    "df[features + [target]].round(2)"
   ]
  },
  {
   "cell_type": "code",
   "execution_count": 18,
   "metadata": {},
   "outputs": [
    {
     "name": "stdout",
     "output_type": "stream",
     "text": [
      "3M Libor            AUD                 Brent 1             Brent 2             \n",
      "Corn                Crude Palm Oil      DJ Index            Dollex              \n",
      "EM Bond             EMEquity ETF        Euro Curr           Gold                \n",
      "INR                 Light Crude         MR                  MSCI APAC ex J      \n",
      "MSCI EM             Nifty               Nikkei Ind          Palladium           \n",
      "Platinum            S&P 500             Shanghai Index      Silver              \n",
      "US Bond ETF         Wheat 1             Wheat 2             White Sugar         \n",
      "Yuan                "
     ]
    }
   ],
   "source": [
    "for enum, f in enumerate(sorted(set([f.split(\"_\")[0] for f in features]))):\n",
    "  print(f.ljust(20), end=\"\")\n",
    "  if enum % 4 == 3:\n",
    "    print(\"\\n\", end=\"\")"
   ]
  },
  {
   "cell_type": "markdown",
   "metadata": {},
   "source": [
    "# 6. Train/Validation/Test Split"
   ]
  },
  {
   "cell_type": "code",
   "execution_count": 19,
   "metadata": {},
   "outputs": [],
   "source": [
    "np.random.seed(123)\n",
    "fold = np.random.choice([\"trn\", \"val\", \"tst\"], p=[1/3, 1/3, 1/3], size=len(df))\n",
    "\n",
    "ix_trn = fold == \"trn\"\n",
    "ix_val = fold == \"val\"\n",
    "ix_tst = fold == \"tst\""
   ]
  },
  {
   "cell_type": "code",
   "execution_count": 20,
   "metadata": {},
   "outputs": [],
   "source": [
    "assert (ix_trn.astype(int) + ix_val.astype(int) + ix_tst.astype(int) == 1).all()"
   ]
  },
  {
   "cell_type": "markdown",
   "metadata": {},
   "source": [
    "# 7. Single Model"
   ]
  },
  {
   "cell_type": "markdown",
   "metadata": {},
   "source": [
    "### 7.1 Compute Predictions and Shap Values"
   ]
  },
  {
   "cell_type": "code",
   "execution_count": 21,
   "metadata": {},
   "outputs": [],
   "source": [
    "preds, shaps = get_preds_shaps(df=df, features=features, target=target, ix_trn=ix_trn)\n",
    "\n",
    "prediction_contribution_trn, error_contribution_trn = get_feature_contributions(\n",
    "  y_true=df.loc[ix_trn, target], \n",
    "  y_pred=preds.loc[ix_trn], \n",
    "  shap_values=shaps.loc[ix_trn, :]\n",
    ")\n",
    "\n",
    "prediction_contribution_val, error_contribution_val = get_feature_contributions(\n",
    "  y_true=df.loc[ix_val, target], \n",
    "  y_pred=preds.loc[ix_val], \n",
    "  shap_values=shaps.loc[ix_val, :]\n",
    ")\n",
    "\n",
    "contributions_trn = pd.concat([prediction_contribution_trn, error_contribution_trn], axis=1)\n",
    "contributions_val = pd.concat([prediction_contribution_val, error_contribution_val], axis=1)"
   ]
  },
  {
   "cell_type": "markdown",
   "metadata": {},
   "source": [
    "### 7.2 Write/Read Results"
   ]
  },
  {
   "cell_type": "code",
   "execution_count": 22,
   "metadata": {},
   "outputs": [],
   "source": [
    "contributions_trn.to_csv(\"contributions_trn.csv\", index=True)\n",
    "contributions_val.to_csv(\"contributions_val.csv\", index=True)"
   ]
  },
  {
   "cell_type": "code",
   "execution_count": 23,
   "metadata": {},
   "outputs": [],
   "source": [
    "contributions_trn = pd.read_csv(\"contributions_trn.csv\", index_col=0)\n",
    "contributions_val = pd.read_csv(\"contributions_val.csv\", index_col=0)"
   ]
  },
  {
   "cell_type": "markdown",
   "metadata": {},
   "source": [
    "### 7.3 Prediction vs. Error Contribution (Training)"
   ]
  },
  {
   "cell_type": "code",
   "execution_count": 24,
   "metadata": {},
   "outputs": [
    {
     "data": {
      "text/html": [
       "<div>\n",
       "<style scoped>\n",
       "    .dataframe tbody tr th:only-of-type {\n",
       "        vertical-align: middle;\n",
       "    }\n",
       "\n",
       "    .dataframe tbody tr th {\n",
       "        vertical-align: top;\n",
       "    }\n",
       "\n",
       "    .dataframe thead th {\n",
       "        text-align: right;\n",
       "    }\n",
       "</style>\n",
       "<table border=\"1\" class=\"dataframe\">\n",
       "  <thead>\n",
       "    <tr style=\"text-align: right;\">\n",
       "      <th></th>\n",
       "      <th>prediction_contribution</th>\n",
       "      <th>error_contribution</th>\n",
       "    </tr>\n",
       "  </thead>\n",
       "  <tbody>\n",
       "    <tr>\n",
       "      <th>3M Libor_T-1</th>\n",
       "      <td>0.042951</td>\n",
       "      <td>-0.013922</td>\n",
       "    </tr>\n",
       "    <tr>\n",
       "      <th>3M Libor_T-7</th>\n",
       "      <td>0.090338</td>\n",
       "      <td>-0.039541</td>\n",
       "    </tr>\n",
       "    <tr>\n",
       "      <th>...</th>\n",
       "      <td>...</td>\n",
       "      <td>...</td>\n",
       "    </tr>\n",
       "    <tr>\n",
       "      <th>Yuan_T-14</th>\n",
       "      <td>0.066477</td>\n",
       "      <td>-0.028666</td>\n",
       "    </tr>\n",
       "    <tr>\n",
       "      <th>Yuan_T-22</th>\n",
       "      <td>0.144774</td>\n",
       "      <td>-0.072751</td>\n",
       "    </tr>\n",
       "  </tbody>\n",
       "</table>\n",
       "<p>120 rows × 2 columns</p>\n",
       "</div>"
      ],
      "text/plain": [
       "              prediction_contribution  error_contribution\n",
       "3M Libor_T-1                 0.042951           -0.013922\n",
       "3M Libor_T-7                 0.090338           -0.039541\n",
       "...                               ...                 ...\n",
       "Yuan_T-14                    0.066477           -0.028666\n",
       "Yuan_T-22                    0.144774           -0.072751\n",
       "\n",
       "[120 rows x 2 columns]"
      ]
     },
     "execution_count": 24,
     "metadata": {},
     "output_type": "execute_result"
    }
   ],
   "source": [
    "contributions_trn"
   ]
  },
  {
   "cell_type": "code",
   "execution_count": 25,
   "metadata": {},
   "outputs": [
    {
     "data": {
      "image/png": "[encoded data removed]",
      "text/plain": [
       "<Figure size 432x288 with 1 Axes>"
      ]
     },
     "metadata": {
      "needs_background": "light"
     },
     "output_type": "display_data"
    }
   ],
   "source": [
    "fig, ax = plt.subplots()\n",
    "\n",
    "ax.scatter(contributions_trn[\"prediction_contribution\"], contributions_trn[\"error_contribution\"], s=80, color=\"orange\", edgecolors=\"black\")\n",
    "ax.hlines(y=0, xmin=0, xmax=contributions_trn[\"prediction_contribution\"].max(), ls=\"--\", color=\"black\")\n",
    "ax.tick_params(axis=\"both\", which=\"major\", labelsize=12)\n",
    "ax.grid(); ax.set_axisbelow(True)\n",
    "ax.set_title(\"Train Dataset\", fontsize=12)\n",
    "ax.set_xlabel(\"Prediction Contribution\", fontsize=12)\n",
    "ax.set_ylabel(\"Error Contribution\", fontsize=12)\n",
    "\n",
    "fig.savefig(\"single_trn.png\", dpi=200, bbox_inches=\"tight\")"
   ]
  },
  {
   "cell_type": "code",
   "execution_count": 26,
   "metadata": {},
   "outputs": [
    {
     "data": {
      "text/html": [
       "<div>\n",
       "<style scoped>\n",
       "    .dataframe tbody tr th:only-of-type {\n",
       "        vertical-align: middle;\n",
       "    }\n",
       "\n",
       "    .dataframe tbody tr th {\n",
       "        vertical-align: top;\n",
       "    }\n",
       "\n",
       "    .dataframe thead th {\n",
       "        text-align: right;\n",
       "    }\n",
       "</style>\n",
       "<table border=\"1\" class=\"dataframe\">\n",
       "  <thead>\n",
       "    <tr style=\"text-align: right;\">\n",
       "      <th></th>\n",
       "      <th>prediction_contribution</th>\n",
       "      <th>error_contribution</th>\n",
       "    </tr>\n",
       "  </thead>\n",
       "  <tbody>\n",
       "    <tr>\n",
       "      <th>INR_T-22</th>\n",
       "      <td>0.431543</td>\n",
       "      <td>-0.314891</td>\n",
       "    </tr>\n",
       "    <tr>\n",
       "      <th>EM Bond_T-22</th>\n",
       "      <td>0.354269</td>\n",
       "      <td>-0.234833</td>\n",
       "    </tr>\n",
       "    <tr>\n",
       "      <th>3M Libor_T-22</th>\n",
       "      <td>0.349576</td>\n",
       "      <td>-0.270460</td>\n",
       "    </tr>\n",
       "    <tr>\n",
       "      <th>Platinum_T-14</th>\n",
       "      <td>0.298751</td>\n",
       "      <td>-0.209640</td>\n",
       "    </tr>\n",
       "    <tr>\n",
       "      <th>Shanghai Index_T-22</th>\n",
       "      <td>0.214553</td>\n",
       "      <td>-0.130805</td>\n",
       "    </tr>\n",
       "    <tr>\n",
       "      <th>White Sugar_T-22</th>\n",
       "      <td>0.207254</td>\n",
       "      <td>-0.122756</td>\n",
       "    </tr>\n",
       "    <tr>\n",
       "      <th>3M Libor_T-14</th>\n",
       "      <td>0.195259</td>\n",
       "      <td>-0.127183</td>\n",
       "    </tr>\n",
       "    <tr>\n",
       "      <th>EMEquity ETF_T-7</th>\n",
       "      <td>0.186585</td>\n",
       "      <td>-0.097444</td>\n",
       "    </tr>\n",
       "    <tr>\n",
       "      <th>Gold_T-22</th>\n",
       "      <td>0.185994</td>\n",
       "      <td>-0.126613</td>\n",
       "    </tr>\n",
       "    <tr>\n",
       "      <th>Brent 2_T-14</th>\n",
       "      <td>0.180668</td>\n",
       "      <td>-0.088183</td>\n",
       "    </tr>\n",
       "  </tbody>\n",
       "</table>\n",
       "</div>"
      ],
      "text/plain": [
       "                     prediction_contribution  error_contribution\n",
       "INR_T-22                            0.431543           -0.314891\n",
       "EM Bond_T-22                        0.354269           -0.234833\n",
       "3M Libor_T-22                       0.349576           -0.270460\n",
       "Platinum_T-14                       0.298751           -0.209640\n",
       "Shanghai Index_T-22                 0.214553           -0.130805\n",
       "White Sugar_T-22                    0.207254           -0.122756\n",
       "3M Libor_T-14                       0.195259           -0.127183\n",
       "EMEquity ETF_T-7                    0.186585           -0.097444\n",
       "Gold_T-22                           0.185994           -0.126613\n",
       "Brent 2_T-14                        0.180668           -0.088183"
      ]
     },
     "execution_count": 26,
     "metadata": {},
     "output_type": "execute_result"
    }
   ],
   "source": [
    "pd.set_option(\"display.max_rows\", 10)\n",
    "\n",
    "contributions_trn.sort_values(\"prediction_contribution\", ascending=False).head(10)"
   ]
  },
  {
   "cell_type": "markdown",
   "metadata": {},
   "source": [
    "### 7.4 Prediction vs. Error Contribution (Validation)"
   ]
  },
  {
   "cell_type": "code",
   "execution_count": 27,
   "metadata": {},
   "outputs": [
    {
     "data": {
      "image/png": "[encoded data removed]",
      "text/plain": [
       "<Figure size 432x288 with 1 Axes>"
      ]
     },
     "metadata": {
      "needs_background": "light"
     },
     "output_type": "display_data"
    }
   ],
   "source": [
    "fig, ax = plt.subplots()\n",
    "\n",
    "ax.scatter(contributions_val[\"prediction_contribution\"], contributions_val[\"error_contribution\"], s=80, color=\"orange\", edgecolors=\"black\")\n",
    "ax.hlines(y=0, xmin=0, xmax=contributions_val[\"prediction_contribution\"].max(), ls=\"--\", color=\"black\")\n",
    "ax.tick_params(axis=\"both\", which=\"major\", labelsize=12)\n",
    "\n",
    "ax.grid()\n",
    "ax.set_axisbelow(True)\n",
    "ax.set_title(\"Validation Dataset\", fontsize=12)\n",
    "ax.set_xlabel(\"Prediction Contribution\", fontsize=12)\n",
    "ax.set_ylabel(\"Error Contribution\", fontsize=12)\n",
    "\n",
    "fig.savefig(\"single_val.png\", dpi=200, bbox_inches=\"tight\")"
   ]
  },
  {
   "cell_type": "code",
   "execution_count": 28,
   "metadata": {},
   "outputs": [
    {
     "data": {
      "text/html": [
       "<div>\n",
       "<style scoped>\n",
       "    .dataframe tbody tr th:only-of-type {\n",
       "        vertical-align: middle;\n",
       "    }\n",
       "\n",
       "    .dataframe tbody tr th {\n",
       "        vertical-align: top;\n",
       "    }\n",
       "\n",
       "    .dataframe thead th {\n",
       "        text-align: right;\n",
       "    }\n",
       "</style>\n",
       "<table border=\"1\" class=\"dataframe\">\n",
       "  <thead>\n",
       "    <tr style=\"text-align: right;\">\n",
       "      <th></th>\n",
       "      <th>prediction_contribution</th>\n",
       "      <th>error_contribution</th>\n",
       "    </tr>\n",
       "  </thead>\n",
       "  <tbody>\n",
       "    <tr>\n",
       "      <th>INR_T-22</th>\n",
       "      <td>0.3997</td>\n",
       "      <td>-0.0982</td>\n",
       "    </tr>\n",
       "    <tr>\n",
       "      <th>Gold_T-22</th>\n",
       "      <td>0.1998</td>\n",
       "      <td>-0.0882</td>\n",
       "    </tr>\n",
       "    <tr>\n",
       "      <th>3M Libor_T-22</th>\n",
       "      <td>0.3347</td>\n",
       "      <td>-0.0730</td>\n",
       "    </tr>\n",
       "    <tr>\n",
       "      <th>Platinum_T-14</th>\n",
       "      <td>0.3117</td>\n",
       "      <td>-0.0599</td>\n",
       "    </tr>\n",
       "    <tr>\n",
       "      <th>EM Bond_T-22</th>\n",
       "      <td>0.3559</td>\n",
       "      <td>-0.0552</td>\n",
       "    </tr>\n",
       "    <tr>\n",
       "      <th>Shanghai Index_T-22</th>\n",
       "      <td>0.2263</td>\n",
       "      <td>-0.0401</td>\n",
       "    </tr>\n",
       "    <tr>\n",
       "      <th>Corn_T-22</th>\n",
       "      <td>0.1876</td>\n",
       "      <td>-0.0283</td>\n",
       "    </tr>\n",
       "    <tr>\n",
       "      <th>DJ Index_T-22</th>\n",
       "      <td>0.1426</td>\n",
       "      <td>-0.0283</td>\n",
       "    </tr>\n",
       "    <tr>\n",
       "      <th>Brent 1_T-22</th>\n",
       "      <td>0.1046</td>\n",
       "      <td>-0.0273</td>\n",
       "    </tr>\n",
       "    <tr>\n",
       "      <th>3M Libor_T-14</th>\n",
       "      <td>0.1977</td>\n",
       "      <td>-0.0257</td>\n",
       "    </tr>\n",
       "  </tbody>\n",
       "</table>\n",
       "</div>"
      ],
      "text/plain": [
       "                     prediction_contribution  error_contribution\n",
       "INR_T-22                              0.3997             -0.0982\n",
       "Gold_T-22                             0.1998             -0.0882\n",
       "3M Libor_T-22                         0.3347             -0.0730\n",
       "Platinum_T-14                         0.3117             -0.0599\n",
       "EM Bond_T-22                          0.3559             -0.0552\n",
       "Shanghai Index_T-22                   0.2263             -0.0401\n",
       "Corn_T-22                             0.1876             -0.0283\n",
       "DJ Index_T-22                         0.1426             -0.0283\n",
       "Brent 1_T-22                          0.1046             -0.0273\n",
       "3M Libor_T-14                         0.1977             -0.0257"
      ]
     },
     "execution_count": 28,
     "metadata": {},
     "output_type": "execute_result"
    }
   ],
   "source": [
    "pd.set_option(\"display.max_rows\", 10)\n",
    "\n",
    "contributions_val.sort_values(\"error_contribution\", ascending=True).round(4).head(10)"
   ]
  },
  {
   "cell_type": "code",
   "execution_count": 29,
   "metadata": {},
   "outputs": [
    {
     "data": {
      "text/html": [
       "<div>\n",
       "<style scoped>\n",
       "    .dataframe tbody tr th:only-of-type {\n",
       "        vertical-align: middle;\n",
       "    }\n",
       "\n",
       "    .dataframe tbody tr th {\n",
       "        vertical-align: top;\n",
       "    }\n",
       "\n",
       "    .dataframe thead th {\n",
       "        text-align: right;\n",
       "    }\n",
       "</style>\n",
       "<table border=\"1\" class=\"dataframe\">\n",
       "  <thead>\n",
       "    <tr style=\"text-align: right;\">\n",
       "      <th></th>\n",
       "      <th>prediction_contribution</th>\n",
       "      <th>error_contribution</th>\n",
       "    </tr>\n",
       "  </thead>\n",
       "  <tbody>\n",
       "    <tr>\n",
       "      <th>US Bond ETF_T-1</th>\n",
       "      <td>0.0926</td>\n",
       "      <td>0.0130</td>\n",
       "    </tr>\n",
       "    <tr>\n",
       "      <th>MSCI APAC ex J_T-1</th>\n",
       "      <td>0.1057</td>\n",
       "      <td>0.0076</td>\n",
       "    </tr>\n",
       "    <tr>\n",
       "      <th>MSCI EM_T-1</th>\n",
       "      <td>0.0241</td>\n",
       "      <td>0.0047</td>\n",
       "    </tr>\n",
       "    <tr>\n",
       "      <th>Nikkei Ind_T-1</th>\n",
       "      <td>0.0269</td>\n",
       "      <td>0.0038</td>\n",
       "    </tr>\n",
       "    <tr>\n",
       "      <th>Corn_T-1</th>\n",
       "      <td>0.0380</td>\n",
       "      <td>0.0033</td>\n",
       "    </tr>\n",
       "    <tr>\n",
       "      <th>Brent 1_T-1</th>\n",
       "      <td>0.0264</td>\n",
       "      <td>0.0029</td>\n",
       "    </tr>\n",
       "    <tr>\n",
       "      <th>Brent 2_T-1</th>\n",
       "      <td>0.0258</td>\n",
       "      <td>0.0029</td>\n",
       "    </tr>\n",
       "    <tr>\n",
       "      <th>DJ Index_T-1</th>\n",
       "      <td>0.0256</td>\n",
       "      <td>0.0019</td>\n",
       "    </tr>\n",
       "    <tr>\n",
       "      <th>Euro Curr_T-1</th>\n",
       "      <td>0.0297</td>\n",
       "      <td>0.0014</td>\n",
       "    </tr>\n",
       "    <tr>\n",
       "      <th>INR_T-7</th>\n",
       "      <td>0.0371</td>\n",
       "      <td>0.0013</td>\n",
       "    </tr>\n",
       "  </tbody>\n",
       "</table>\n",
       "</div>"
      ],
      "text/plain": [
       "                    prediction_contribution  error_contribution\n",
       "US Bond ETF_T-1                      0.0926              0.0130\n",
       "MSCI APAC ex J_T-1                   0.1057              0.0076\n",
       "MSCI EM_T-1                          0.0241              0.0047\n",
       "Nikkei Ind_T-1                       0.0269              0.0038\n",
       "Corn_T-1                             0.0380              0.0033\n",
       "Brent 1_T-1                          0.0264              0.0029\n",
       "Brent 2_T-1                          0.0258              0.0029\n",
       "DJ Index_T-1                         0.0256              0.0019\n",
       "Euro Curr_T-1                        0.0297              0.0014\n",
       "INR_T-7                              0.0371              0.0013"
      ]
     },
     "execution_count": 29,
     "metadata": {},
     "output_type": "execute_result"
    }
   ],
   "source": [
    "pd.set_option(\"display.max_rows\", 10)\n",
    "\n",
    "contributions_val.sort_values(\"error_contribution\", ascending=False).round(4).head(10)"
   ]
  },
  {
   "cell_type": "markdown",
   "metadata": {},
   "source": [
    "# 8. Recursive Feature Elimination (RFE)"
   ]
  },
  {
   "cell_type": "markdown",
   "metadata": {},
   "source": [
    "### 8.1. RFE - Error Contribution\n",
    "At each step, we remove the feature with the highest error contribution."
   ]
  },
  {
   "cell_type": "code",
   "execution_count": 30,
   "metadata": {},
   "outputs": [
    {
     "name": "stderr",
     "output_type": "stream",
     "text": [
      "100%|████████████████████████████████████████████████████████████████████████████████| 120/120 [04:09<00:00,  2.08s/it]\n"
     ]
    }
   ],
   "source": [
    "rfe_error = pd.DataFrame(dtype=float)\n",
    "features_curr = features.copy()\n",
    "feature_drop = None\n",
    "\n",
    "for iteration in tqdm(range(len(features))):\n",
    "  \n",
    "  preds, shaps = get_preds_shaps(df=df, features=features_curr, target=target, ix_trn=ix_trn)\n",
    "  prediction_contribution, error_contribution = get_feature_contributions(\n",
    "    y_true=df.loc[ix_val, target], \n",
    "    y_pred=preds.loc[ix_val], \n",
    "    shap_values=shaps.loc[ix_val, :]\n",
    "  )\n",
    "\n",
    "  rfe_error.loc[iteration, \"feature_drop\"] = feature_drop\n",
    "  rfe_error.loc[iteration, \"n_features\"] = len(features_curr)\n",
    "  rfe_error.loc[iteration, \"contrib\"] = error_contribution.max()\n",
    "  rfe_error.loc[iteration, \"mae_trn\"] = mean_absolute_error(df.loc[ix_trn, target], preds.loc[ix_trn])\n",
    "  rfe_error.loc[iteration, \"mae_val\"] = mean_absolute_error(df.loc[ix_val, target], preds.loc[ix_val])\n",
    "  rfe_error.loc[iteration, \"mae_tst\"] = mean_absolute_error(df.loc[ix_tst, target], preds.loc[ix_tst])\n",
    "  rfe_error.loc[iteration, \"r2_trn\"] = r2_score(df.loc[ix_trn, target], preds.loc[ix_trn])\n",
    "  rfe_error.loc[iteration, \"r2_val\"] = r2_score(df.loc[ix_val, target], preds.loc[ix_val])\n",
    "  rfe_error.loc[iteration, \"r2_tst\"] = r2_score(df.loc[ix_tst, target], preds.loc[ix_tst])\n",
    "  \n",
    "  feature_drop = error_contribution.idxmax()\n",
    "  features_curr.remove(feature_drop)"
   ]
  },
  {
   "cell_type": "markdown",
   "metadata": {},
   "source": [
    "### 8.2. RFE - Prediction Contribution\n",
    "At each step, we remove the feature with the smallest prediction contribution (i.e. the less important feature)"
   ]
  },
  {
   "cell_type": "code",
   "execution_count": 31,
   "metadata": {},
   "outputs": [
    {
     "name": "stderr",
     "output_type": "stream",
     "text": [
      "100%|████████████████████████████████████████████████████████████████████████████████| 120/120 [04:10<00:00,  2.08s/it]\n"
     ]
    }
   ],
   "source": [
    "rfe_prediction = pd.DataFrame(dtype=float)\n",
    "features_curr = features.copy()\n",
    "feature_drop = None\n",
    "\n",
    "for iteration in tqdm(range(len(features))):\n",
    "  \n",
    "  preds, shaps = get_preds_shaps(df=df, features=features_curr, target=target, ix_trn=ix_trn)\n",
    "  prediction_contribution, error_contribution = get_feature_contributions(\n",
    "    y_true=df.loc[ix_val, target], \n",
    "    y_pred=preds.loc[ix_val], \n",
    "    shap_values=shaps.loc[ix_val, :]\n",
    "  )\n",
    "\n",
    "  rfe_prediction.loc[iteration, \"feature_drop\"] = feature_drop\n",
    "  rfe_prediction.loc[iteration, \"n_features\"] = len(features_curr)\n",
    "  rfe_prediction.loc[iteration, \"contrib\"] = prediction_contribution.min()\n",
    "  rfe_prediction.loc[iteration, \"mae_trn\"] = mean_absolute_error(df.loc[ix_trn, target], preds.loc[ix_trn])\n",
    "  rfe_prediction.loc[iteration, \"mae_val\"] = mean_absolute_error(df.loc[ix_val, target], preds.loc[ix_val])\n",
    "  rfe_prediction.loc[iteration, \"mae_tst\"] = mean_absolute_error(df.loc[ix_tst, target], preds.loc[ix_tst])\n",
    "  rfe_prediction.loc[iteration, \"r2_trn\"] = r2_score(df.loc[ix_trn, target], preds.loc[ix_trn])\n",
    "  rfe_prediction.loc[iteration, \"r2_val\"] = r2_score(df.loc[ix_val, target], preds.loc[ix_val])\n",
    "  rfe_prediction.loc[iteration, \"r2_tst\"] = r2_score(df.loc[ix_tst, target], preds.loc[ix_tst])\n",
    "  \n",
    "  feature_drop = prediction_contribution.idxmin()\n",
    "  features_curr.remove(feature_drop)"
   ]
  },
  {
   "cell_type": "markdown",
   "metadata": {},
   "source": [
    "### 8.3 Write Results"
   ]
  },
  {
   "cell_type": "code",
   "execution_count": 32,
   "metadata": {},
   "outputs": [],
   "source": [
    "rfe_error.to_csv(\"gold_rfe_error.csv\", index=False)\n",
    "rfe_prediction.to_csv(\"gold_rfe_prediction.csv\", index=False)"
   ]
  },
  {
   "cell_type": "markdown",
   "metadata": {},
   "source": [
    "### 8.4 Read Results"
   ]
  },
  {
   "cell_type": "code",
   "execution_count": 33,
   "metadata": {},
   "outputs": [],
   "source": [
    "rfe_error = pd.read_csv(\"gold_rfe_error.csv\")\n",
    "rfe_prediction = pd.read_csv(\"gold_rfe_prediction.csv\")"
   ]
  },
  {
   "cell_type": "markdown",
   "metadata": {},
   "source": [
    "### 8.5 Plot RFE on Validation"
   ]
  },
  {
   "cell_type": "code",
   "execution_count": 34,
   "metadata": {},
   "outputs": [
    {
     "data": {
      "image/png": "[encoded data removed]",
      "text/plain": [
       "<Figure size 432x288 with 1 Axes>"
      ]
     },
     "metadata": {
      "needs_background": "light"
     },
     "output_type": "display_data"
    }
   ],
   "source": [
    "fig, ax = plt.subplots()\n",
    "\n",
    "ax.plot(-rfe_prediction[\"n_features\"], rfe_prediction[\"mae_val\"], lw=3, color=\"blue\", label=\"RFE - Prediction\\nContribution\")\n",
    "ax.plot(-rfe_error[\"n_features\"], rfe_error[\"mae_val\"], lw=3, color=\"orange\", label=\"RFE - Error\\nContribution\")\n",
    "ax.set_title(\"Validation Set\", fontsize=12)\n",
    "ax.set_ylabel(\"Mean Absolute Error\", fontsize=12)\n",
    "ax.set_xlabel(\"N Features\", fontsize=12)\n",
    "ax.set_xticklabels([-int(x) for x in ax.get_xticks()])\n",
    "ax.grid()\n",
    "ax.legend(loc='center left', bbox_to_anchor=(1, 0.5), fontsize=12)\n",
    "ax.tick_params(axis=\"both\", which=\"major\", labelsize=12)\n",
    "\n",
    "fig.savefig(\"rfe_val_all.png\", dpi=200, bbox_inches=\"tight\")"
   ]
  },
  {
   "cell_type": "markdown",
   "metadata": {},
   "source": [
    "### 8.6 Plot RFE on Training"
   ]
  },
  {
   "cell_type": "code",
   "execution_count": 35,
   "metadata": {},
   "outputs": [],
   "source": [
    "max_iter_show = len(rfe_error) - 9"
   ]
  },
  {
   "cell_type": "code",
   "execution_count": 36,
   "metadata": {},
   "outputs": [
    {
     "data": {
      "image/png": "[encoded data removed]",
      "text/plain": [
       "<Figure size 432x288 with 1 Axes>"
      ]
     },
     "metadata": {
      "needs_background": "light"
     },
     "output_type": "display_data"
    }
   ],
   "source": [
    "fig, ax = plt.subplots()\n",
    "\n",
    "ax.plot(-rfe_prediction.head(max_iter_show)[\"n_features\"], rfe_prediction.head(max_iter_show)[\"mae_trn\"], lw=3, color=\"blue\", label=\"RFE - Prediction\\nContribution\")\n",
    "ax.plot(-rfe_error.head(max_iter_show)[\"n_features\"], rfe_error.head(max_iter_show)[\"mae_trn\"], lw=3, color=\"orange\", label=\"RFE - Error\\nContribution\")\n",
    "ax.set_title(\"Training Set\")\n",
    "ax.set_ylabel(\"Mean Absolute Error\", fontsize=12)\n",
    "ax.set_xlabel(\"N Features\", fontsize=12)\n",
    "ax.set_xticklabels([-int(x) for x in ax.get_xticks()])\n",
    "ax.grid()\n",
    "ax.legend(loc='center left', bbox_to_anchor=(1, 0.5), fontsize=12)\n",
    "ax.tick_params(axis=\"both\", which=\"major\", labelsize=12)\n",
    "\n",
    "fig.savefig(\"rfe_trn.png\", dpi=200, bbox_inches=\"tight\")"
   ]
  },
  {
   "cell_type": "markdown",
   "metadata": {},
   "source": [
    "### 8.7 Plot RFE on Validation"
   ]
  },
  {
   "cell_type": "code",
   "execution_count": 37,
   "metadata": {},
   "outputs": [
    {
     "data": {
      "image/png": "[encoded data removed]",
      "text/plain": [
       "<Figure size 432x288 with 1 Axes>"
      ]
     },
     "metadata": {
      "needs_background": "light"
     },
     "output_type": "display_data"
    }
   ],
   "source": [
    "fig, ax = plt.subplots()\n",
    "\n",
    "idxmin_prediction = rfe_prediction[\"mae_val\"].idxmin()\n",
    "idxmin_error = rfe_error[\"mae_val\"].idxmin()\n",
    "\n",
    "ax.plot(-rfe_prediction.head(max_iter_show)[\"n_features\"], rfe_prediction.head(max_iter_show)[\"mae_val\"], lw=3, color=\"blue\", label=\"RFE - Prediction\\nContribution\")\n",
    "ax.plot(-rfe_error.head(max_iter_show)[\"n_features\"], rfe_error.head(max_iter_show)[\"mae_val\"], lw=3, color=\"orange\", label=\"RFE - Error\\nContribution\")\n",
    "ax.scatter(-rfe_prediction.loc[idxmin_prediction,\"n_features\"], rfe_prediction.loc[idxmin_prediction,\"mae_val\"], s=200, marker=\"o\", facecolors=\"none\", edgecolors=\"red\", lw=3, zorder=100)\n",
    "ax.scatter(-rfe_error.loc[idxmin_error,\"n_features\"], rfe_error.loc[idxmin_error,\"mae_val\"], s=200, marker=\"o\", facecolors=\"none\", edgecolors=\"red\", lw=3, zorder=100)\n",
    "ax.set_title(\"Validation Set\", fontsize=12)\n",
    "ax.set_ylabel(\"Mean Absolute Error\", fontsize=12)\n",
    "ax.set_xlabel(\"N Features\", fontsize=12)\n",
    "ax.set_xticklabels([-int(x) for x in ax.get_xticks()])\n",
    "ax.grid()\n",
    "ax.legend(loc='center left', bbox_to_anchor=(1, 0.5), fontsize=12)\n",
    "ax.tick_params(axis=\"both\", which=\"major\", labelsize=12)\n",
    "\n",
    "fig.savefig(\"rfe_val.png\", dpi=200, bbox_inches=\"tight\")"
   ]
  },
  {
   "cell_type": "code",
   "execution_count": 38,
   "metadata": {},
   "outputs": [
    {
     "data": {
      "text/html": [
       "<div>\n",
       "<style scoped>\n",
       "    .dataframe tbody tr th:only-of-type {\n",
       "        vertical-align: middle;\n",
       "    }\n",
       "\n",
       "    .dataframe tbody tr th {\n",
       "        vertical-align: top;\n",
       "    }\n",
       "\n",
       "    .dataframe thead th {\n",
       "        text-align: right;\n",
       "    }\n",
       "</style>\n",
       "<table border=\"1\" class=\"dataframe\">\n",
       "  <thead>\n",
       "    <tr style=\"text-align: right;\">\n",
       "      <th></th>\n",
       "      <th>feature_drop</th>\n",
       "      <th>n_features</th>\n",
       "      <th>contrib</th>\n",
       "      <th>mae_trn</th>\n",
       "      <th>...</th>\n",
       "      <th>mae_tst</th>\n",
       "      <th>r2_trn</th>\n",
       "      <th>r2_val</th>\n",
       "      <th>r2_tst</th>\n",
       "    </tr>\n",
       "  </thead>\n",
       "  <tbody>\n",
       "    <tr>\n",
       "      <th>103</th>\n",
       "      <td>Nikkei Ind_T-22</td>\n",
       "      <td>17.0</td>\n",
       "      <td>-0.034201</td>\n",
       "      <td>0.389733</td>\n",
       "      <td>...</td>\n",
       "      <td>1.940193</td>\n",
       "      <td>0.98585</td>\n",
       "      <td>0.642669</td>\n",
       "      <td>0.605735</td>\n",
       "    </tr>\n",
       "  </tbody>\n",
       "</table>\n",
       "<p>1 rows × 9 columns</p>\n",
       "</div>"
      ],
      "text/plain": [
       "        feature_drop  n_features   contrib   mae_trn  ...   mae_tst   r2_trn  \\\n",
       "103  Nikkei Ind_T-22        17.0 -0.034201  0.389733  ...  1.940193  0.98585   \n",
       "\n",
       "       r2_val    r2_tst  \n",
       "103  0.642669  0.605735  \n",
       "\n",
       "[1 rows x 9 columns]"
      ]
     },
     "execution_count": 38,
     "metadata": {},
     "output_type": "execute_result"
    }
   ],
   "source": [
    "rfe_error.sort_values(\"mae_val\", ascending=True).head(1)"
   ]
  },
  {
   "cell_type": "code",
   "execution_count": 39,
   "metadata": {},
   "outputs": [
    {
     "data": {
      "text/html": [
       "<div>\n",
       "<style scoped>\n",
       "    .dataframe tbody tr th:only-of-type {\n",
       "        vertical-align: middle;\n",
       "    }\n",
       "\n",
       "    .dataframe tbody tr th {\n",
       "        vertical-align: top;\n",
       "    }\n",
       "\n",
       "    .dataframe thead th {\n",
       "        text-align: right;\n",
       "    }\n",
       "</style>\n",
       "<table border=\"1\" class=\"dataframe\">\n",
       "  <thead>\n",
       "    <tr style=\"text-align: right;\">\n",
       "      <th></th>\n",
       "      <th>feature_drop</th>\n",
       "      <th>n_features</th>\n",
       "      <th>contrib</th>\n",
       "      <th>mae_trn</th>\n",
       "      <th>...</th>\n",
       "      <th>mae_tst</th>\n",
       "      <th>r2_trn</th>\n",
       "      <th>r2_val</th>\n",
       "      <th>r2_tst</th>\n",
       "    </tr>\n",
       "  </thead>\n",
       "  <tbody>\n",
       "    <tr>\n",
       "      <th>101</th>\n",
       "      <td>Brent 2_T-14</td>\n",
       "      <td>19.0</td>\n",
       "      <td>0.254594</td>\n",
       "      <td>0.372378</td>\n",
       "      <td>...</td>\n",
       "      <td>2.04357</td>\n",
       "      <td>0.986542</td>\n",
       "      <td>0.594444</td>\n",
       "      <td>0.582419</td>\n",
       "    </tr>\n",
       "  </tbody>\n",
       "</table>\n",
       "<p>1 rows × 9 columns</p>\n",
       "</div>"
      ],
      "text/plain": [
       "     feature_drop  n_features   contrib   mae_trn  ...  mae_tst    r2_trn  \\\n",
       "101  Brent 2_T-14        19.0  0.254594  0.372378  ...  2.04357  0.986542   \n",
       "\n",
       "       r2_val    r2_tst  \n",
       "101  0.594444  0.582419  \n",
       "\n",
       "[1 rows x 9 columns]"
      ]
     },
     "execution_count": 39,
     "metadata": {},
     "output_type": "execute_result"
    }
   ],
   "source": [
    "rfe_prediction.sort_values(\"mae_val\", ascending=True).head(1)"
   ]
  },
  {
   "cell_type": "markdown",
   "metadata": {},
   "source": [
    "### 8.8 Plot RFE on Test"
   ]
  },
  {
   "cell_type": "code",
   "execution_count": 40,
   "metadata": {},
   "outputs": [
    {
     "data": {
      "image/png": "[encoded data removed]",
      "text/plain": [
       "<Figure size 432x288 with 1 Axes>"
      ]
     },
     "metadata": {
      "needs_background": "light"
     },
     "output_type": "display_data"
    }
   ],
   "source": [
    "fig, ax = plt.subplots()\n",
    "\n",
    "idxmin_prediction = rfe_prediction[\"mae_val\"].idxmin()\n",
    "idxmin_error = rfe_error[\"mae_val\"].idxmin()\n",
    "\n",
    "ax.plot(-rfe_prediction.head(max_iter_show)[\"n_features\"], rfe_prediction.head(max_iter_show)[\"mae_tst\"], lw=3, color=\"blue\", label=\"RFE - Prediction\\nContribution\")\n",
    "ax.plot(-rfe_error.head(max_iter_show)[\"n_features\"], rfe_error.head(max_iter_show)[\"mae_tst\"], lw=3, color=\"orange\", label=\"RFE - Error\\nContribution\")\n",
    "ax.scatter(-rfe_prediction.loc[idxmin_prediction,\"n_features\"], rfe_prediction.loc[idxmin_prediction,\"mae_tst\"], s=200, marker=\"o\", facecolors=\"none\", edgecolors=\"red\", lw=3, zorder=100)\n",
    "ax.scatter(-rfe_error.loc[idxmin_error,\"n_features\"], rfe_error.loc[idxmin_error,\"mae_tst\"], s=200, marker=\"o\", facecolors=\"none\", edgecolors=\"red\", lw=3, zorder=100)\n",
    "ax.set_title(\"Test Set\", fontsize=12)\n",
    "ax.set_ylabel(\"Mean Absolute Error\", fontsize=12)\n",
    "ax.set_xlabel(\"N Features\", fontsize=12)\n",
    "ax.set_xticklabels([-int(x) for x in ax.get_xticks()])\n",
    "ax.grid()\n",
    "ax.legend(loc='center left', bbox_to_anchor=(1, 0.5), fontsize=12)\n",
    "ax.tick_params(axis=\"both\", which=\"major\", labelsize=12)\n",
    "\n",
    "fig.savefig(\"rfe_tst.png\", dpi=200, bbox_inches=\"tight\")"
   ]
  }
 ],
 "metadata": {
  "kernelspec": {
   "display_name": "dev",
   "language": "python",
   "name": "dev"
  },
  "language_info": {
   "codemirror_mode": {
    "name": "ipython",
    "version": 3
   },
   "file_extension": ".py",
   "mimetype": "text/x-python",
   "name": "python",
   "nbconvert_exporter": "python",
   "pygments_lexer": "ipython3",
   "version": "3.6.10"
  }
 },
 "nbformat": 4,
 "nbformat_minor": 4
}
